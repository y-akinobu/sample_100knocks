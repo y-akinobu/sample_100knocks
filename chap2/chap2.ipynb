{
 "cells": [
  {
   "cell_type": "markdown",
   "metadata": {},
   "source": [
    "# ２章　小売店のデータでデータ加工を行う１０本ノック\n",
    "\n",
    "本章では、ある小売店の売上履歴と顧客台帳データを用いて、データ分析の素地となる「データの加工」を習得することが目的です。\n",
    "実際の現場データは手入力のExcel等、決して綺麗なデータではない事が多いため、\n",
    "データの揺れや整合性の担保など、汚いデータを取り扱うデータ加工を主体に進めて行きます。"
   ]
  },
  {
   "cell_type": "markdown",
   "metadata": {},
   "source": [
    "### ノック１１：データを読み込んでみよう"
   ]
  },
  {
   "cell_type": "code",
   "execution_count": 1,
   "metadata": {
    "scrolled": false
   },
   "outputs": [
    {
     "output_type": "execute_result",
     "data": {
      "text/plain": "         purchase_date item_name  item_price customer_name\n0  2019-06-13 18:02:34       商品A       100.0         深井菜々美\n1  2019-07-13 13:05:29     商 品 S         NaN          浅田賢二\n2  2019-05-11 19:42:07     商 品 a         NaN          南部慶二\n3  2019-02-12 23:40:45       商品Z      2600.0          麻生莉緒\n4  2019-04-22 03:09:35       商品a         NaN          平田鉄二",
      "text/html": "<div>\n<style scoped>\n    .dataframe tbody tr th:only-of-type {\n        vertical-align: middle;\n    }\n\n    .dataframe tbody tr th {\n        vertical-align: top;\n    }\n\n    .dataframe thead th {\n        text-align: right;\n    }\n</style>\n<table border=\"1\" class=\"dataframe\">\n  <thead>\n    <tr style=\"text-align: right;\">\n      <th></th>\n      <th>purchase_date</th>\n      <th>item_name</th>\n      <th>item_price</th>\n      <th>customer_name</th>\n    </tr>\n  </thead>\n  <tbody>\n    <tr>\n      <th>0</th>\n      <td>2019-06-13 18:02:34</td>\n      <td>商品A</td>\n      <td>100.0</td>\n      <td>深井菜々美</td>\n    </tr>\n    <tr>\n      <th>1</th>\n      <td>2019-07-13 13:05:29</td>\n      <td>商 品 S</td>\n      <td>NaN</td>\n      <td>浅田賢二</td>\n    </tr>\n    <tr>\n      <th>2</th>\n      <td>2019-05-11 19:42:07</td>\n      <td>商 品 a</td>\n      <td>NaN</td>\n      <td>南部慶二</td>\n    </tr>\n    <tr>\n      <th>3</th>\n      <td>2019-02-12 23:40:45</td>\n      <td>商品Z</td>\n      <td>2600.0</td>\n      <td>麻生莉緒</td>\n    </tr>\n    <tr>\n      <th>4</th>\n      <td>2019-04-22 03:09:35</td>\n      <td>商品a</td>\n      <td>NaN</td>\n      <td>平田鉄二</td>\n    </tr>\n  </tbody>\n</table>\n</div>"
     },
     "metadata": {},
     "execution_count": 1
    }
   ],
   "source": [
    "import pandas as pd\n",
    "uriage_data = pd.read_csv('uriage.csv')\n",
    "uriage_data.head()"
   ]
  },
  {
   "cell_type": "code",
   "execution_count": 4,
   "metadata": {
    "scrolled": false
   },
   "outputs": [
    {
     "output_type": "execute_result",
     "data": {
      "text/plain": "      顧客名        かな  地域                     メールアドレス         登録日\n0   須賀ひとみ    すが ひとみ  H市     suga_hitomi@example.com  2018/01/04\n1  岡田　 敏也   おかだ としや  E市   okada_toshiya@example.com       42782\n2    芳賀 希    はが のぞみ  A市     haga_nozomi@example.com  2018/01/07\n3   荻野  愛    おぎの あい  F市        ogino_ai@example.com       42872\n4   栗田 憲一  くりた けんいち  E市  kurita_kenichi@example.com       43127",
      "text/html": "<div>\n<style scoped>\n    .dataframe tbody tr th:only-of-type {\n        vertical-align: middle;\n    }\n\n    .dataframe tbody tr th {\n        vertical-align: top;\n    }\n\n    .dataframe thead th {\n        text-align: right;\n    }\n</style>\n<table border=\"1\" class=\"dataframe\">\n  <thead>\n    <tr style=\"text-align: right;\">\n      <th></th>\n      <th>顧客名</th>\n      <th>かな</th>\n      <th>地域</th>\n      <th>メールアドレス</th>\n      <th>登録日</th>\n    </tr>\n  </thead>\n  <tbody>\n    <tr>\n      <th>0</th>\n      <td>須賀ひとみ</td>\n      <td>すが ひとみ</td>\n      <td>H市</td>\n      <td>suga_hitomi@example.com</td>\n      <td>2018/01/04</td>\n    </tr>\n    <tr>\n      <th>1</th>\n      <td>岡田　 敏也</td>\n      <td>おかだ としや</td>\n      <td>E市</td>\n      <td>okada_toshiya@example.com</td>\n      <td>42782</td>\n    </tr>\n    <tr>\n      <th>2</th>\n      <td>芳賀 希</td>\n      <td>はが のぞみ</td>\n      <td>A市</td>\n      <td>haga_nozomi@example.com</td>\n      <td>2018/01/07</td>\n    </tr>\n    <tr>\n      <th>3</th>\n      <td>荻野  愛</td>\n      <td>おぎの あい</td>\n      <td>F市</td>\n      <td>ogino_ai@example.com</td>\n      <td>42872</td>\n    </tr>\n    <tr>\n      <th>4</th>\n      <td>栗田 憲一</td>\n      <td>くりた けんいち</td>\n      <td>E市</td>\n      <td>kurita_kenichi@example.com</td>\n      <td>43127</td>\n    </tr>\n  </tbody>\n</table>\n</div>"
     },
     "metadata": {},
     "execution_count": 4
    }
   ],
   "source": [
    "kokyaku_data = pd.read_excel('kokyaku_daicho.xlsx')\n",
    "kokyaku_data.head()"
   ]
  },
  {
   "cell_type": "markdown",
   "metadata": {},
   "source": [
    "### ノック１２：データの揺れを見てみよう"
   ]
  },
  {
   "cell_type": "code",
   "execution_count": 5,
   "metadata": {
    "scrolled": false
   },
   "outputs": [
    {
     "output_type": "execute_result",
     "data": {
      "text/plain": "0      商品A\n1    商 品 S\n2    商 品 a\n3      商品Z\n4      商品a\nName: item_name, dtype: object"
     },
     "metadata": {},
     "execution_count": 5
    }
   ],
   "source": [
    "uriage_data[\"item_name\"].head()"
   ]
  },
  {
   "cell_type": "code",
   "execution_count": 6,
   "metadata": {},
   "outputs": [
    {
     "output_type": "execute_result",
     "data": {
      "text/plain": "0     100.0\n1       NaN\n2       NaN\n3    2600.0\n4       NaN\nName: item_price, dtype: float64"
     },
     "metadata": {},
     "execution_count": 6
    }
   ],
   "source": [
    "uriage_data[\"item_price\"].head()"
   ]
  },
  {
   "cell_type": "code",
   "execution_count": 7,
   "metadata": {
    "scrolled": false
   },
   "outputs": [
    {
     "output_type": "execute_result",
     "data": {
      "text/plain": "0    2018/01/04\n1         42782\n2    2018/01/07\n3         42872\n4         43127\nName: 登録日, dtype: object"
     },
     "metadata": {},
     "execution_count": 7
    }
   ],
   "source": [
    "kokyaku_data[\"登録日\"].head()"
   ]
  },
  {
   "cell_type": "markdown",
   "metadata": {},
   "source": [
    "### ノック１３：データに揺れがあるまま集計しよう"
   ]
  },
  {
   "cell_type": "code",
   "execution_count": 10,
   "metadata": {
    "scrolled": false
   },
   "outputs": [
    {
     "output_type": "execute_result",
     "data": {
      "text/plain": "item_name         商品W   商 品 n   商品E   商品M   商品P  ...  商品s  商品t  商品v  商品x  商品y\npurchase_month                                   ...                         \n201901              0       1     0     0     0  ...    0    0    0    0    0\n201902              0       0     0     0     0  ...    1    1    1    0    0\n201903              0       0     1     1     1  ...    0    0    0    0    0\n201904              1       0     0     0     0  ...    1    0    0    0    0\n201905              0       0     0     0     0  ...    0    0    0    0    1\n201906              0       0     0     0     0  ...    0    0    0    1    0\n201907              0       0     0     0     0  ...    0    0    0    0    0\n\n[7 rows x 99 columns]",
      "text/html": "<div>\n<style scoped>\n    .dataframe tbody tr th:only-of-type {\n        vertical-align: middle;\n    }\n\n    .dataframe tbody tr th {\n        vertical-align: top;\n    }\n\n    .dataframe thead th {\n        text-align: right;\n    }\n</style>\n<table border=\"1\" class=\"dataframe\">\n  <thead>\n    <tr style=\"text-align: right;\">\n      <th>item_name</th>\n      <th>商品W</th>\n      <th>商 品 n</th>\n      <th>商品E</th>\n      <th>商品M</th>\n      <th>商品P</th>\n      <th>商品S</th>\n      <th>商品W</th>\n      <th>商品X</th>\n      <th>商  品O</th>\n      <th>商  品Q</th>\n      <th>商  品T</th>\n      <th>商  品V</th>\n      <th>商 品 S</th>\n      <th>商 品 a</th>\n      <th>商 品 q</th>\n      <th>商 品 s</th>\n      <th>商 品A</th>\n      <th>商 品C</th>\n      <th>商 品D</th>\n      <th>商 品E</th>\n      <th>商 品F</th>\n      <th>商 品G</th>\n      <th>商 品H</th>\n      <th>商 品I</th>\n      <th>商 品K</th>\n      <th>商 品M</th>\n      <th>商 品N</th>\n      <th>商 品O</th>\n      <th>商 品P</th>\n      <th>商 品T</th>\n      <th>商 品U</th>\n      <th>商 品V</th>\n      <th>商 品X</th>\n      <th>商 品Y</th>\n      <th>商 品s</th>\n      <th>商品 A</th>\n      <th>商品 B</th>\n      <th>商品 E</th>\n      <th>商品 F</th>\n      <th>商品 H</th>\n      <th>...</th>\n      <th>商品D</th>\n      <th>商品E</th>\n      <th>商品F</th>\n      <th>商品G</th>\n      <th>商品H</th>\n      <th>商品I</th>\n      <th>商品J</th>\n      <th>商品K</th>\n      <th>商品L</th>\n      <th>商品M</th>\n      <th>商品N</th>\n      <th>商品O</th>\n      <th>商品P</th>\n      <th>商品Q</th>\n      <th>商品R</th>\n      <th>商品S</th>\n      <th>商品T</th>\n      <th>商品U</th>\n      <th>商品V</th>\n      <th>商品W</th>\n      <th>商品X</th>\n      <th>商品Y</th>\n      <th>商品Z</th>\n      <th>商品a</th>\n      <th>商品c</th>\n      <th>商品d</th>\n      <th>商品e</th>\n      <th>商品g</th>\n      <th>商品i</th>\n      <th>商品j</th>\n      <th>商品k</th>\n      <th>商品l</th>\n      <th>商品o</th>\n      <th>商品p</th>\n      <th>商品r</th>\n      <th>商品s</th>\n      <th>商品t</th>\n      <th>商品v</th>\n      <th>商品x</th>\n      <th>商品y</th>\n    </tr>\n    <tr>\n      <th>purchase_month</th>\n      <th></th>\n      <th></th>\n      <th></th>\n      <th></th>\n      <th></th>\n      <th></th>\n      <th></th>\n      <th></th>\n      <th></th>\n      <th></th>\n      <th></th>\n      <th></th>\n      <th></th>\n      <th></th>\n      <th></th>\n      <th></th>\n      <th></th>\n      <th></th>\n      <th></th>\n      <th></th>\n      <th></th>\n      <th></th>\n      <th></th>\n      <th></th>\n      <th></th>\n      <th></th>\n      <th></th>\n      <th></th>\n      <th></th>\n      <th></th>\n      <th></th>\n      <th></th>\n      <th></th>\n      <th></th>\n      <th></th>\n      <th></th>\n      <th></th>\n      <th></th>\n      <th></th>\n      <th></th>\n      <th></th>\n      <th></th>\n      <th></th>\n      <th></th>\n      <th></th>\n      <th></th>\n      <th></th>\n      <th></th>\n      <th></th>\n      <th></th>\n      <th></th>\n      <th></th>\n      <th></th>\n      <th></th>\n      <th></th>\n      <th></th>\n      <th></th>\n      <th></th>\n      <th></th>\n      <th></th>\n      <th></th>\n      <th></th>\n      <th></th>\n      <th></th>\n      <th></th>\n      <th></th>\n      <th></th>\n      <th></th>\n      <th></th>\n      <th></th>\n      <th></th>\n      <th></th>\n      <th></th>\n      <th></th>\n      <th></th>\n      <th></th>\n      <th></th>\n      <th></th>\n      <th></th>\n      <th></th>\n      <th></th>\n    </tr>\n  </thead>\n  <tbody>\n    <tr>\n      <th>201901</th>\n      <td>0</td>\n      <td>1</td>\n      <td>0</td>\n      <td>0</td>\n      <td>0</td>\n      <td>0</td>\n      <td>0</td>\n      <td>0</td>\n      <td>0</td>\n      <td>0</td>\n      <td>0</td>\n      <td>0</td>\n      <td>0</td>\n      <td>0</td>\n      <td>0</td>\n      <td>0</td>\n      <td>0</td>\n      <td>0</td>\n      <td>0</td>\n      <td>0</td>\n      <td>0</td>\n      <td>0</td>\n      <td>1</td>\n      <td>0</td>\n      <td>0</td>\n      <td>0</td>\n      <td>0</td>\n      <td>1</td>\n      <td>1</td>\n      <td>1</td>\n      <td>0</td>\n      <td>0</td>\n      <td>2</td>\n      <td>0</td>\n      <td>1</td>\n      <td>0</td>\n      <td>0</td>\n      <td>0</td>\n      <td>0</td>\n      <td>0</td>\n      <td>...</td>\n      <td>17</td>\n      <td>18</td>\n      <td>15</td>\n      <td>11</td>\n      <td>15</td>\n      <td>17</td>\n      <td>17</td>\n      <td>19</td>\n      <td>18</td>\n      <td>18</td>\n      <td>15</td>\n      <td>21</td>\n      <td>15</td>\n      <td>17</td>\n      <td>21</td>\n      <td>18</td>\n      <td>16</td>\n      <td>7</td>\n      <td>21</td>\n      <td>13</td>\n      <td>12</td>\n      <td>10</td>\n      <td>0</td>\n      <td>0</td>\n      <td>1</td>\n      <td>0</td>\n      <td>0</td>\n      <td>0</td>\n      <td>0</td>\n      <td>0</td>\n      <td>1</td>\n      <td>1</td>\n      <td>1</td>\n      <td>0</td>\n      <td>0</td>\n      <td>0</td>\n      <td>0</td>\n      <td>0</td>\n      <td>0</td>\n      <td>0</td>\n    </tr>\n    <tr>\n      <th>201902</th>\n      <td>0</td>\n      <td>0</td>\n      <td>0</td>\n      <td>0</td>\n      <td>0</td>\n      <td>0</td>\n      <td>0</td>\n      <td>1</td>\n      <td>0</td>\n      <td>0</td>\n      <td>0</td>\n      <td>0</td>\n      <td>0</td>\n      <td>0</td>\n      <td>0</td>\n      <td>0</td>\n      <td>0</td>\n      <td>0</td>\n      <td>1</td>\n      <td>0</td>\n      <td>0</td>\n      <td>0</td>\n      <td>0</td>\n      <td>1</td>\n      <td>0</td>\n      <td>0</td>\n      <td>1</td>\n      <td>0</td>\n      <td>0</td>\n      <td>0</td>\n      <td>0</td>\n      <td>0</td>\n      <td>0</td>\n      <td>0</td>\n      <td>0</td>\n      <td>0</td>\n      <td>1</td>\n      <td>0</td>\n      <td>0</td>\n      <td>0</td>\n      <td>...</td>\n      <td>20</td>\n      <td>16</td>\n      <td>14</td>\n      <td>13</td>\n      <td>17</td>\n      <td>11</td>\n      <td>13</td>\n      <td>16</td>\n      <td>11</td>\n      <td>15</td>\n      <td>19</td>\n      <td>18</td>\n      <td>19</td>\n      <td>22</td>\n      <td>21</td>\n      <td>21</td>\n      <td>22</td>\n      <td>19</td>\n      <td>21</td>\n      <td>24</td>\n      <td>14</td>\n      <td>11</td>\n      <td>1</td>\n      <td>0</td>\n      <td>0</td>\n      <td>0</td>\n      <td>0</td>\n      <td>0</td>\n      <td>0</td>\n      <td>1</td>\n      <td>0</td>\n      <td>0</td>\n      <td>0</td>\n      <td>0</td>\n      <td>0</td>\n      <td>1</td>\n      <td>1</td>\n      <td>1</td>\n      <td>0</td>\n      <td>0</td>\n    </tr>\n    <tr>\n      <th>201903</th>\n      <td>0</td>\n      <td>0</td>\n      <td>1</td>\n      <td>1</td>\n      <td>1</td>\n      <td>0</td>\n      <td>0</td>\n      <td>0</td>\n      <td>0</td>\n      <td>0</td>\n      <td>0</td>\n      <td>0</td>\n      <td>0</td>\n      <td>0</td>\n      <td>0</td>\n      <td>0</td>\n      <td>0</td>\n      <td>0</td>\n      <td>0</td>\n      <td>0</td>\n      <td>1</td>\n      <td>0</td>\n      <td>0</td>\n      <td>0</td>\n      <td>0</td>\n      <td>0</td>\n      <td>0</td>\n      <td>0</td>\n      <td>0</td>\n      <td>0</td>\n      <td>0</td>\n      <td>0</td>\n      <td>0</td>\n      <td>0</td>\n      <td>0</td>\n      <td>0</td>\n      <td>0</td>\n      <td>0</td>\n      <td>0</td>\n      <td>0</td>\n      <td>...</td>\n      <td>16</td>\n      <td>8</td>\n      <td>26</td>\n      <td>14</td>\n      <td>18</td>\n      <td>12</td>\n      <td>15</td>\n      <td>14</td>\n      <td>20</td>\n      <td>21</td>\n      <td>13</td>\n      <td>11</td>\n      <td>20</td>\n      <td>23</td>\n      <td>16</td>\n      <td>20</td>\n      <td>12</td>\n      <td>23</td>\n      <td>17</td>\n      <td>16</td>\n      <td>21</td>\n      <td>16</td>\n      <td>0</td>\n      <td>0</td>\n      <td>0</td>\n      <td>1</td>\n      <td>0</td>\n      <td>0</td>\n      <td>0</td>\n      <td>0</td>\n      <td>0</td>\n      <td>0</td>\n      <td>0</td>\n      <td>0</td>\n      <td>0</td>\n      <td>0</td>\n      <td>0</td>\n      <td>0</td>\n      <td>0</td>\n      <td>0</td>\n    </tr>\n    <tr>\n      <th>201904</th>\n      <td>1</td>\n      <td>0</td>\n      <td>0</td>\n      <td>0</td>\n      <td>0</td>\n      <td>0</td>\n      <td>0</td>\n      <td>0</td>\n      <td>0</td>\n      <td>1</td>\n      <td>1</td>\n      <td>1</td>\n      <td>0</td>\n      <td>0</td>\n      <td>0</td>\n      <td>0</td>\n      <td>0</td>\n      <td>0</td>\n      <td>0</td>\n      <td>0</td>\n      <td>0</td>\n      <td>0</td>\n      <td>0</td>\n      <td>0</td>\n      <td>0</td>\n      <td>0</td>\n      <td>0</td>\n      <td>1</td>\n      <td>0</td>\n      <td>0</td>\n      <td>0</td>\n      <td>0</td>\n      <td>0</td>\n      <td>3</td>\n      <td>0</td>\n      <td>0</td>\n      <td>0</td>\n      <td>0</td>\n      <td>2</td>\n      <td>0</td>\n      <td>...</td>\n      <td>20</td>\n      <td>17</td>\n      <td>15</td>\n      <td>13</td>\n      <td>11</td>\n      <td>18</td>\n      <td>13</td>\n      <td>14</td>\n      <td>15</td>\n      <td>11</td>\n      <td>20</td>\n      <td>14</td>\n      <td>15</td>\n      <td>19</td>\n      <td>20</td>\n      <td>15</td>\n      <td>15</td>\n      <td>11</td>\n      <td>14</td>\n      <td>13</td>\n      <td>16</td>\n      <td>17</td>\n      <td>0</td>\n      <td>1</td>\n      <td>0</td>\n      <td>0</td>\n      <td>1</td>\n      <td>1</td>\n      <td>0</td>\n      <td>0</td>\n      <td>0</td>\n      <td>0</td>\n      <td>0</td>\n      <td>0</td>\n      <td>0</td>\n      <td>1</td>\n      <td>0</td>\n      <td>0</td>\n      <td>0</td>\n      <td>0</td>\n    </tr>\n    <tr>\n      <th>201905</th>\n      <td>0</td>\n      <td>0</td>\n      <td>0</td>\n      <td>0</td>\n      <td>0</td>\n      <td>1</td>\n      <td>0</td>\n      <td>0</td>\n      <td>0</td>\n      <td>0</td>\n      <td>0</td>\n      <td>0</td>\n      <td>0</td>\n      <td>2</td>\n      <td>0</td>\n      <td>1</td>\n      <td>1</td>\n      <td>0</td>\n      <td>0</td>\n      <td>0</td>\n      <td>0</td>\n      <td>0</td>\n      <td>0</td>\n      <td>0</td>\n      <td>1</td>\n      <td>1</td>\n      <td>0</td>\n      <td>0</td>\n      <td>0</td>\n      <td>0</td>\n      <td>0</td>\n      <td>1</td>\n      <td>0</td>\n      <td>0</td>\n      <td>0</td>\n      <td>0</td>\n      <td>0</td>\n      <td>0</td>\n      <td>1</td>\n      <td>0</td>\n      <td>...</td>\n      <td>14</td>\n      <td>19</td>\n      <td>17</td>\n      <td>23</td>\n      <td>15</td>\n      <td>16</td>\n      <td>10</td>\n      <td>16</td>\n      <td>12</td>\n      <td>17</td>\n      <td>19</td>\n      <td>18</td>\n      <td>20</td>\n      <td>12</td>\n      <td>22</td>\n      <td>16</td>\n      <td>15</td>\n      <td>16</td>\n      <td>8</td>\n      <td>20</td>\n      <td>16</td>\n      <td>19</td>\n      <td>0</td>\n      <td>0</td>\n      <td>1</td>\n      <td>0</td>\n      <td>0</td>\n      <td>0</td>\n      <td>0</td>\n      <td>0</td>\n      <td>0</td>\n      <td>1</td>\n      <td>0</td>\n      <td>0</td>\n      <td>0</td>\n      <td>0</td>\n      <td>0</td>\n      <td>0</td>\n      <td>0</td>\n      <td>1</td>\n    </tr>\n    <tr>\n      <th>201906</th>\n      <td>0</td>\n      <td>0</td>\n      <td>0</td>\n      <td>0</td>\n      <td>0</td>\n      <td>0</td>\n      <td>1</td>\n      <td>0</td>\n      <td>0</td>\n      <td>0</td>\n      <td>0</td>\n      <td>0</td>\n      <td>0</td>\n      <td>0</td>\n      <td>0</td>\n      <td>0</td>\n      <td>0</td>\n      <td>1</td>\n      <td>0</td>\n      <td>0</td>\n      <td>0</td>\n      <td>1</td>\n      <td>0</td>\n      <td>0</td>\n      <td>0</td>\n      <td>0</td>\n      <td>0</td>\n      <td>1</td>\n      <td>0</td>\n      <td>0</td>\n      <td>1</td>\n      <td>0</td>\n      <td>0</td>\n      <td>0</td>\n      <td>0</td>\n      <td>1</td>\n      <td>0</td>\n      <td>0</td>\n      <td>0</td>\n      <td>1</td>\n      <td>...</td>\n      <td>19</td>\n      <td>13</td>\n      <td>18</td>\n      <td>13</td>\n      <td>12</td>\n      <td>18</td>\n      <td>22</td>\n      <td>15</td>\n      <td>15</td>\n      <td>17</td>\n      <td>16</td>\n      <td>14</td>\n      <td>17</td>\n      <td>15</td>\n      <td>16</td>\n      <td>21</td>\n      <td>12</td>\n      <td>17</td>\n      <td>19</td>\n      <td>16</td>\n      <td>14</td>\n      <td>13</td>\n      <td>0</td>\n      <td>0</td>\n      <td>0</td>\n      <td>0</td>\n      <td>0</td>\n      <td>0</td>\n      <td>1</td>\n      <td>0</td>\n      <td>0</td>\n      <td>0</td>\n      <td>0</td>\n      <td>1</td>\n      <td>0</td>\n      <td>0</td>\n      <td>0</td>\n      <td>0</td>\n      <td>1</td>\n      <td>0</td>\n    </tr>\n    <tr>\n      <th>201907</th>\n      <td>0</td>\n      <td>0</td>\n      <td>0</td>\n      <td>0</td>\n      <td>0</td>\n      <td>0</td>\n      <td>0</td>\n      <td>0</td>\n      <td>1</td>\n      <td>0</td>\n      <td>0</td>\n      <td>0</td>\n      <td>1</td>\n      <td>0</td>\n      <td>1</td>\n      <td>0</td>\n      <td>0</td>\n      <td>0</td>\n      <td>0</td>\n      <td>1</td>\n      <td>0</td>\n      <td>0</td>\n      <td>1</td>\n      <td>0</td>\n      <td>0</td>\n      <td>0</td>\n      <td>0</td>\n      <td>1</td>\n      <td>0</td>\n      <td>0</td>\n      <td>0</td>\n      <td>1</td>\n      <td>0</td>\n      <td>0</td>\n      <td>0</td>\n      <td>0</td>\n      <td>0</td>\n      <td>1</td>\n      <td>0</td>\n      <td>0</td>\n      <td>...</td>\n      <td>17</td>\n      <td>10</td>\n      <td>17</td>\n      <td>19</td>\n      <td>18</td>\n      <td>18</td>\n      <td>23</td>\n      <td>12</td>\n      <td>17</td>\n      <td>11</td>\n      <td>15</td>\n      <td>19</td>\n      <td>26</td>\n      <td>14</td>\n      <td>17</td>\n      <td>22</td>\n      <td>20</td>\n      <td>13</td>\n      <td>26</td>\n      <td>16</td>\n      <td>18</td>\n      <td>12</td>\n      <td>0</td>\n      <td>0</td>\n      <td>0</td>\n      <td>0</td>\n      <td>0</td>\n      <td>0</td>\n      <td>1</td>\n      <td>0</td>\n      <td>0</td>\n      <td>0</td>\n      <td>1</td>\n      <td>0</td>\n      <td>2</td>\n      <td>0</td>\n      <td>0</td>\n      <td>0</td>\n      <td>0</td>\n      <td>0</td>\n    </tr>\n  </tbody>\n</table>\n<p>7 rows × 99 columns</p>\n</div>"
     },
     "metadata": {},
     "execution_count": 10
    }
   ],
   "source": [
    "uriage_data[\"purchase_date\"] = pd.to_datetime(uriage_data[\"purchase_date\"])\n",
    "uriage_data[\"purchase_month\"] = uriage_data[\"purchase_date\"].dt.strftime(\"%Y%m\")\n",
    "res = uriage_data.pivot_table(index=\"purchase_month\", columns=\"item_name\", aggfunc=\"size\", fill_value=0)\n",
    "\n",
    "res"
   ]
  },
  {
   "cell_type": "code",
   "execution_count": 12,
   "metadata": {},
   "outputs": [
    {
     "output_type": "execute_result",
     "data": {
      "text/plain": "item_name         商品W   商 品 n   商品E   商品M   商品P  ...   商品s   商品t   商品v   商品x   商品y\npurchase_month                                   ...                              \n201901              0    1400     0     0     0  ...     0     0     0     0     0\n201902              0       0     0     0     0  ...  1900  2000  2200     0     0\n201903              0       0   500  1300  1600  ...     0     0     0     0     0\n201904           2300       0     0     0     0  ...  1900     0     0     0     0\n201905              0       0     0     0     0  ...     0     0     0     0  2500\n201906              0       0     0     0     0  ...     0     0     0  2400     0\n201907              0       0     0     0     0  ...     0     0     0     0     0\n\n[7 rows x 99 columns]",
      "text/html": "<div>\n<style scoped>\n    .dataframe tbody tr th:only-of-type {\n        vertical-align: middle;\n    }\n\n    .dataframe tbody tr th {\n        vertical-align: top;\n    }\n\n    .dataframe thead th {\n        text-align: right;\n    }\n</style>\n<table border=\"1\" class=\"dataframe\">\n  <thead>\n    <tr style=\"text-align: right;\">\n      <th>item_name</th>\n      <th>商品W</th>\n      <th>商 品 n</th>\n      <th>商品E</th>\n      <th>商品M</th>\n      <th>商品P</th>\n      <th>商品S</th>\n      <th>商品W</th>\n      <th>商品X</th>\n      <th>商  品O</th>\n      <th>商  品Q</th>\n      <th>商  品T</th>\n      <th>商  品V</th>\n      <th>商 品 S</th>\n      <th>商 品 a</th>\n      <th>商 品 q</th>\n      <th>商 品 s</th>\n      <th>商 品A</th>\n      <th>商 品C</th>\n      <th>商 品D</th>\n      <th>商 品E</th>\n      <th>商 品F</th>\n      <th>商 品G</th>\n      <th>商 品H</th>\n      <th>商 品I</th>\n      <th>商 品K</th>\n      <th>商 品M</th>\n      <th>商 品N</th>\n      <th>商 品O</th>\n      <th>商 品P</th>\n      <th>商 品T</th>\n      <th>商 品U</th>\n      <th>商 品V</th>\n      <th>商 品X</th>\n      <th>商 品Y</th>\n      <th>商 品s</th>\n      <th>商品 A</th>\n      <th>商品 B</th>\n      <th>商品 E</th>\n      <th>商品 F</th>\n      <th>商品 H</th>\n      <th>...</th>\n      <th>商品D</th>\n      <th>商品E</th>\n      <th>商品F</th>\n      <th>商品G</th>\n      <th>商品H</th>\n      <th>商品I</th>\n      <th>商品J</th>\n      <th>商品K</th>\n      <th>商品L</th>\n      <th>商品M</th>\n      <th>商品N</th>\n      <th>商品O</th>\n      <th>商品P</th>\n      <th>商品Q</th>\n      <th>商品R</th>\n      <th>商品S</th>\n      <th>商品T</th>\n      <th>商品U</th>\n      <th>商品V</th>\n      <th>商品W</th>\n      <th>商品X</th>\n      <th>商品Y</th>\n      <th>商品Z</th>\n      <th>商品a</th>\n      <th>商品c</th>\n      <th>商品d</th>\n      <th>商品e</th>\n      <th>商品g</th>\n      <th>商品i</th>\n      <th>商品j</th>\n      <th>商品k</th>\n      <th>商品l</th>\n      <th>商品o</th>\n      <th>商品p</th>\n      <th>商品r</th>\n      <th>商品s</th>\n      <th>商品t</th>\n      <th>商品v</th>\n      <th>商品x</th>\n      <th>商品y</th>\n    </tr>\n    <tr>\n      <th>purchase_month</th>\n      <th></th>\n      <th></th>\n      <th></th>\n      <th></th>\n      <th></th>\n      <th></th>\n      <th></th>\n      <th></th>\n      <th></th>\n      <th></th>\n      <th></th>\n      <th></th>\n      <th></th>\n      <th></th>\n      <th></th>\n      <th></th>\n      <th></th>\n      <th></th>\n      <th></th>\n      <th></th>\n      <th></th>\n      <th></th>\n      <th></th>\n      <th></th>\n      <th></th>\n      <th></th>\n      <th></th>\n      <th></th>\n      <th></th>\n      <th></th>\n      <th></th>\n      <th></th>\n      <th></th>\n      <th></th>\n      <th></th>\n      <th></th>\n      <th></th>\n      <th></th>\n      <th></th>\n      <th></th>\n      <th></th>\n      <th></th>\n      <th></th>\n      <th></th>\n      <th></th>\n      <th></th>\n      <th></th>\n      <th></th>\n      <th></th>\n      <th></th>\n      <th></th>\n      <th></th>\n      <th></th>\n      <th></th>\n      <th></th>\n      <th></th>\n      <th></th>\n      <th></th>\n      <th></th>\n      <th></th>\n      <th></th>\n      <th></th>\n      <th></th>\n      <th></th>\n      <th></th>\n      <th></th>\n      <th></th>\n      <th></th>\n      <th></th>\n      <th></th>\n      <th></th>\n      <th></th>\n      <th></th>\n      <th></th>\n      <th></th>\n      <th></th>\n      <th></th>\n      <th></th>\n      <th></th>\n      <th></th>\n      <th></th>\n    </tr>\n  </thead>\n  <tbody>\n    <tr>\n      <th>201901</th>\n      <td>0</td>\n      <td>1400</td>\n      <td>0</td>\n      <td>0</td>\n      <td>0</td>\n      <td>0</td>\n      <td>0</td>\n      <td>0</td>\n      <td>0</td>\n      <td>0</td>\n      <td>0</td>\n      <td>0</td>\n      <td>0</td>\n      <td>0</td>\n      <td>0</td>\n      <td>0</td>\n      <td>0</td>\n      <td>0</td>\n      <td>0</td>\n      <td>0</td>\n      <td>0</td>\n      <td>0</td>\n      <td>800</td>\n      <td>0</td>\n      <td>0</td>\n      <td>0</td>\n      <td>0</td>\n      <td>1500</td>\n      <td>1600</td>\n      <td>2000</td>\n      <td>0</td>\n      <td>0</td>\n      <td>4800</td>\n      <td>0</td>\n      <td>1900</td>\n      <td>0</td>\n      <td>0</td>\n      <td>0</td>\n      <td>0</td>\n      <td>0</td>\n      <td>...</td>\n      <td>6000</td>\n      <td>6500</td>\n      <td>7800</td>\n      <td>7000</td>\n      <td>10400</td>\n      <td>13500</td>\n      <td>16000</td>\n      <td>16500</td>\n      <td>19200</td>\n      <td>19500</td>\n      <td>21000</td>\n      <td>27000</td>\n      <td>20800</td>\n      <td>25500</td>\n      <td>36000</td>\n      <td>28500</td>\n      <td>28000</td>\n      <td>12600</td>\n      <td>41800</td>\n      <td>27600</td>\n      <td>24000</td>\n      <td>20000</td>\n      <td>0</td>\n      <td>0</td>\n      <td>300</td>\n      <td>0</td>\n      <td>0</td>\n      <td>0</td>\n      <td>0</td>\n      <td>0</td>\n      <td>1100</td>\n      <td>1200</td>\n      <td>1500</td>\n      <td>0</td>\n      <td>0</td>\n      <td>0</td>\n      <td>0</td>\n      <td>0</td>\n      <td>0</td>\n      <td>0</td>\n    </tr>\n    <tr>\n      <th>201902</th>\n      <td>0</td>\n      <td>0</td>\n      <td>0</td>\n      <td>0</td>\n      <td>0</td>\n      <td>0</td>\n      <td>0</td>\n      <td>2400</td>\n      <td>0</td>\n      <td>0</td>\n      <td>0</td>\n      <td>0</td>\n      <td>0</td>\n      <td>0</td>\n      <td>0</td>\n      <td>0</td>\n      <td>0</td>\n      <td>0</td>\n      <td>400</td>\n      <td>0</td>\n      <td>0</td>\n      <td>0</td>\n      <td>0</td>\n      <td>900</td>\n      <td>0</td>\n      <td>0</td>\n      <td>1400</td>\n      <td>0</td>\n      <td>0</td>\n      <td>0</td>\n      <td>0</td>\n      <td>0</td>\n      <td>0</td>\n      <td>0</td>\n      <td>0</td>\n      <td>0</td>\n      <td>0</td>\n      <td>0</td>\n      <td>0</td>\n      <td>0</td>\n      <td>...</td>\n      <td>7600</td>\n      <td>5500</td>\n      <td>6600</td>\n      <td>7000</td>\n      <td>12800</td>\n      <td>8100</td>\n      <td>11000</td>\n      <td>14300</td>\n      <td>13200</td>\n      <td>16900</td>\n      <td>23800</td>\n      <td>25500</td>\n      <td>30400</td>\n      <td>30600</td>\n      <td>32400</td>\n      <td>32300</td>\n      <td>40000</td>\n      <td>37800</td>\n      <td>39600</td>\n      <td>43700</td>\n      <td>31200</td>\n      <td>20000</td>\n      <td>2600</td>\n      <td>0</td>\n      <td>0</td>\n      <td>0</td>\n      <td>0</td>\n      <td>0</td>\n      <td>0</td>\n      <td>1000</td>\n      <td>0</td>\n      <td>0</td>\n      <td>0</td>\n      <td>0</td>\n      <td>0</td>\n      <td>1900</td>\n      <td>2000</td>\n      <td>2200</td>\n      <td>0</td>\n      <td>0</td>\n    </tr>\n    <tr>\n      <th>201903</th>\n      <td>0</td>\n      <td>0</td>\n      <td>500</td>\n      <td>1300</td>\n      <td>1600</td>\n      <td>0</td>\n      <td>0</td>\n      <td>0</td>\n      <td>0</td>\n      <td>0</td>\n      <td>0</td>\n      <td>0</td>\n      <td>0</td>\n      <td>0</td>\n      <td>0</td>\n      <td>0</td>\n      <td>0</td>\n      <td>0</td>\n      <td>0</td>\n      <td>0</td>\n      <td>600</td>\n      <td>0</td>\n      <td>0</td>\n      <td>0</td>\n      <td>0</td>\n      <td>0</td>\n      <td>0</td>\n      <td>0</td>\n      <td>0</td>\n      <td>0</td>\n      <td>0</td>\n      <td>0</td>\n      <td>0</td>\n      <td>0</td>\n      <td>0</td>\n      <td>0</td>\n      <td>0</td>\n      <td>0</td>\n      <td>0</td>\n      <td>0</td>\n      <td>...</td>\n      <td>6000</td>\n      <td>4000</td>\n      <td>11400</td>\n      <td>7700</td>\n      <td>14400</td>\n      <td>10800</td>\n      <td>13000</td>\n      <td>14300</td>\n      <td>21600</td>\n      <td>26000</td>\n      <td>16800</td>\n      <td>15000</td>\n      <td>32000</td>\n      <td>34000</td>\n      <td>27000</td>\n      <td>26600</td>\n      <td>22000</td>\n      <td>46200</td>\n      <td>35200</td>\n      <td>34500</td>\n      <td>38400</td>\n      <td>35000</td>\n      <td>0</td>\n      <td>0</td>\n      <td>0</td>\n      <td>400</td>\n      <td>0</td>\n      <td>0</td>\n      <td>0</td>\n      <td>0</td>\n      <td>0</td>\n      <td>0</td>\n      <td>0</td>\n      <td>0</td>\n      <td>0</td>\n      <td>0</td>\n      <td>0</td>\n      <td>0</td>\n      <td>0</td>\n      <td>0</td>\n    </tr>\n    <tr>\n      <th>201904</th>\n      <td>2300</td>\n      <td>0</td>\n      <td>0</td>\n      <td>0</td>\n      <td>0</td>\n      <td>0</td>\n      <td>0</td>\n      <td>0</td>\n      <td>0</td>\n      <td>1700</td>\n      <td>2000</td>\n      <td>2200</td>\n      <td>0</td>\n      <td>0</td>\n      <td>0</td>\n      <td>0</td>\n      <td>0</td>\n      <td>0</td>\n      <td>0</td>\n      <td>0</td>\n      <td>0</td>\n      <td>0</td>\n      <td>0</td>\n      <td>0</td>\n      <td>0</td>\n      <td>0</td>\n      <td>0</td>\n      <td>1500</td>\n      <td>0</td>\n      <td>0</td>\n      <td>0</td>\n      <td>0</td>\n      <td>0</td>\n      <td>7500</td>\n      <td>0</td>\n      <td>0</td>\n      <td>0</td>\n      <td>0</td>\n      <td>1200</td>\n      <td>0</td>\n      <td>...</td>\n      <td>7200</td>\n      <td>8000</td>\n      <td>7800</td>\n      <td>9100</td>\n      <td>7200</td>\n      <td>14400</td>\n      <td>13000</td>\n      <td>12100</td>\n      <td>15600</td>\n      <td>14300</td>\n      <td>22400</td>\n      <td>18000</td>\n      <td>22400</td>\n      <td>28900</td>\n      <td>30600</td>\n      <td>28500</td>\n      <td>28000</td>\n      <td>16800</td>\n      <td>19800</td>\n      <td>20700</td>\n      <td>38400</td>\n      <td>32500</td>\n      <td>0</td>\n      <td>0</td>\n      <td>0</td>\n      <td>0</td>\n      <td>500</td>\n      <td>700</td>\n      <td>0</td>\n      <td>0</td>\n      <td>0</td>\n      <td>0</td>\n      <td>0</td>\n      <td>0</td>\n      <td>0</td>\n      <td>1900</td>\n      <td>0</td>\n      <td>0</td>\n      <td>0</td>\n      <td>0</td>\n    </tr>\n    <tr>\n      <th>201905</th>\n      <td>0</td>\n      <td>0</td>\n      <td>0</td>\n      <td>0</td>\n      <td>0</td>\n      <td>1900</td>\n      <td>0</td>\n      <td>0</td>\n      <td>0</td>\n      <td>0</td>\n      <td>0</td>\n      <td>0</td>\n      <td>0</td>\n      <td>100</td>\n      <td>0</td>\n      <td>1900</td>\n      <td>100</td>\n      <td>0</td>\n      <td>0</td>\n      <td>0</td>\n      <td>0</td>\n      <td>0</td>\n      <td>0</td>\n      <td>0</td>\n      <td>1100</td>\n      <td>1300</td>\n      <td>0</td>\n      <td>0</td>\n      <td>0</td>\n      <td>0</td>\n      <td>0</td>\n      <td>2200</td>\n      <td>0</td>\n      <td>0</td>\n      <td>0</td>\n      <td>0</td>\n      <td>0</td>\n      <td>0</td>\n      <td>600</td>\n      <td>0</td>\n      <td>...</td>\n      <td>5200</td>\n      <td>9000</td>\n      <td>9000</td>\n      <td>14000</td>\n      <td>12000</td>\n      <td>13500</td>\n      <td>8000</td>\n      <td>15400</td>\n      <td>12000</td>\n      <td>20800</td>\n      <td>23800</td>\n      <td>24000</td>\n      <td>28800</td>\n      <td>15300</td>\n      <td>32400</td>\n      <td>20900</td>\n      <td>26000</td>\n      <td>33600</td>\n      <td>8800</td>\n      <td>36800</td>\n      <td>31200</td>\n      <td>45000</td>\n      <td>0</td>\n      <td>0</td>\n      <td>300</td>\n      <td>0</td>\n      <td>0</td>\n      <td>0</td>\n      <td>0</td>\n      <td>0</td>\n      <td>0</td>\n      <td>1200</td>\n      <td>0</td>\n      <td>0</td>\n      <td>0</td>\n      <td>0</td>\n      <td>0</td>\n      <td>0</td>\n      <td>0</td>\n      <td>2500</td>\n    </tr>\n    <tr>\n      <th>201906</th>\n      <td>0</td>\n      <td>0</td>\n      <td>0</td>\n      <td>0</td>\n      <td>0</td>\n      <td>0</td>\n      <td>2300</td>\n      <td>0</td>\n      <td>0</td>\n      <td>0</td>\n      <td>0</td>\n      <td>0</td>\n      <td>0</td>\n      <td>0</td>\n      <td>0</td>\n      <td>0</td>\n      <td>0</td>\n      <td>300</td>\n      <td>0</td>\n      <td>0</td>\n      <td>0</td>\n      <td>700</td>\n      <td>0</td>\n      <td>0</td>\n      <td>0</td>\n      <td>0</td>\n      <td>0</td>\n      <td>1500</td>\n      <td>0</td>\n      <td>0</td>\n      <td>2100</td>\n      <td>0</td>\n      <td>0</td>\n      <td>0</td>\n      <td>0</td>\n      <td>100</td>\n      <td>0</td>\n      <td>0</td>\n      <td>0</td>\n      <td>800</td>\n      <td>...</td>\n      <td>7200</td>\n      <td>6500</td>\n      <td>9600</td>\n      <td>7700</td>\n      <td>8800</td>\n      <td>12600</td>\n      <td>20000</td>\n      <td>15400</td>\n      <td>14400</td>\n      <td>19500</td>\n      <td>15400</td>\n      <td>19500</td>\n      <td>24000</td>\n      <td>23800</td>\n      <td>27000</td>\n      <td>34200</td>\n      <td>22000</td>\n      <td>29400</td>\n      <td>33000</td>\n      <td>25300</td>\n      <td>24000</td>\n      <td>30000</td>\n      <td>0</td>\n      <td>0</td>\n      <td>0</td>\n      <td>0</td>\n      <td>0</td>\n      <td>0</td>\n      <td>900</td>\n      <td>0</td>\n      <td>0</td>\n      <td>0</td>\n      <td>0</td>\n      <td>1600</td>\n      <td>0</td>\n      <td>0</td>\n      <td>0</td>\n      <td>0</td>\n      <td>2400</td>\n      <td>0</td>\n    </tr>\n    <tr>\n      <th>201907</th>\n      <td>0</td>\n      <td>0</td>\n      <td>0</td>\n      <td>0</td>\n      <td>0</td>\n      <td>0</td>\n      <td>0</td>\n      <td>0</td>\n      <td>0</td>\n      <td>0</td>\n      <td>0</td>\n      <td>0</td>\n      <td>0</td>\n      <td>0</td>\n      <td>1700</td>\n      <td>0</td>\n      <td>0</td>\n      <td>0</td>\n      <td>0</td>\n      <td>500</td>\n      <td>0</td>\n      <td>0</td>\n      <td>800</td>\n      <td>0</td>\n      <td>0</td>\n      <td>0</td>\n      <td>0</td>\n      <td>1500</td>\n      <td>0</td>\n      <td>0</td>\n      <td>0</td>\n      <td>2200</td>\n      <td>0</td>\n      <td>0</td>\n      <td>0</td>\n      <td>0</td>\n      <td>0</td>\n      <td>500</td>\n      <td>0</td>\n      <td>0</td>\n      <td>...</td>\n      <td>6000</td>\n      <td>4500</td>\n      <td>9600</td>\n      <td>11900</td>\n      <td>12800</td>\n      <td>13500</td>\n      <td>17000</td>\n      <td>9900</td>\n      <td>20400</td>\n      <td>13000</td>\n      <td>18200</td>\n      <td>25500</td>\n      <td>38400</td>\n      <td>18700</td>\n      <td>25200</td>\n      <td>38000</td>\n      <td>34000</td>\n      <td>23100</td>\n      <td>52800</td>\n      <td>32200</td>\n      <td>38400</td>\n      <td>27500</td>\n      <td>0</td>\n      <td>0</td>\n      <td>0</td>\n      <td>0</td>\n      <td>0</td>\n      <td>0</td>\n      <td>900</td>\n      <td>0</td>\n      <td>0</td>\n      <td>0</td>\n      <td>1500</td>\n      <td>0</td>\n      <td>1800</td>\n      <td>0</td>\n      <td>0</td>\n      <td>0</td>\n      <td>0</td>\n      <td>0</td>\n    </tr>\n  </tbody>\n</table>\n<p>7 rows × 99 columns</p>\n</div>"
     },
     "metadata": {},
     "execution_count": 12
    }
   ],
   "source": [
    "res = uriage_data.pivot_table(index=\"purchase_month\", columns=\"item_name\", values=\"item_price\", aggfunc=\"sum\", fill_value=0)\n",
    "\n",
    "res"
   ]
  },
  {
   "cell_type": "markdown",
   "metadata": {},
   "source": [
    "### ノック１４：商品名の揺れを補正しよう"
   ]
  },
  {
   "cell_type": "code",
   "execution_count": 13,
   "metadata": {},
   "outputs": [
    {
     "output_type": "stream",
     "name": "stdout",
     "text": "99\n"
    }
   ],
   "source": [
    "print(len(pd.unique(uriage_data.item_name)))"
   ]
  },
  {
   "cell_type": "code",
   "execution_count": 14,
   "metadata": {
    "scrolled": false
   },
   "outputs": [
    {
     "output_type": "execute_result",
     "data": {
      "text/plain": "           purchase_date item_name  item_price customer_name purchase_month\n0    2019-06-13 18:02:34       商品A       100.0         深井菜々美         201906\n1748 2019-05-19 20:22:22       商品A       100.0          松川綾女         201905\n223  2019-06-25 08:13:20       商品A       100.0           板橋隆         201906\n1742 2019-06-13 16:03:17       商品A       100.0          小平陽子         201906\n1738 2019-02-10 00:28:43       商品A       100.0          松田浩正         201902\n...                  ...       ...         ...           ...            ...\n2880 2019-04-22 00:36:52       商品Y         NaN          田辺光洋         201904\n2881 2019-04-30 14:21:09       商品Y         NaN          高原充則         201904\n1525 2019-01-24 10:27:23       商品Y      2500.0         五十嵐春樹         201901\n1361 2019-05-28 13:45:32       商品Y      2500.0         大崎ヒカル         201905\n3    2019-02-12 23:40:45       商品Z      2600.0          麻生莉緒         201902\n\n[2999 rows x 5 columns]",
      "text/html": "<div>\n<style scoped>\n    .dataframe tbody tr th:only-of-type {\n        vertical-align: middle;\n    }\n\n    .dataframe tbody tr th {\n        vertical-align: top;\n    }\n\n    .dataframe thead th {\n        text-align: right;\n    }\n</style>\n<table border=\"1\" class=\"dataframe\">\n  <thead>\n    <tr style=\"text-align: right;\">\n      <th></th>\n      <th>purchase_date</th>\n      <th>item_name</th>\n      <th>item_price</th>\n      <th>customer_name</th>\n      <th>purchase_month</th>\n    </tr>\n  </thead>\n  <tbody>\n    <tr>\n      <th>0</th>\n      <td>2019-06-13 18:02:34</td>\n      <td>商品A</td>\n      <td>100.0</td>\n      <td>深井菜々美</td>\n      <td>201906</td>\n    </tr>\n    <tr>\n      <th>1748</th>\n      <td>2019-05-19 20:22:22</td>\n      <td>商品A</td>\n      <td>100.0</td>\n      <td>松川綾女</td>\n      <td>201905</td>\n    </tr>\n    <tr>\n      <th>223</th>\n      <td>2019-06-25 08:13:20</td>\n      <td>商品A</td>\n      <td>100.0</td>\n      <td>板橋隆</td>\n      <td>201906</td>\n    </tr>\n    <tr>\n      <th>1742</th>\n      <td>2019-06-13 16:03:17</td>\n      <td>商品A</td>\n      <td>100.0</td>\n      <td>小平陽子</td>\n      <td>201906</td>\n    </tr>\n    <tr>\n      <th>1738</th>\n      <td>2019-02-10 00:28:43</td>\n      <td>商品A</td>\n      <td>100.0</td>\n      <td>松田浩正</td>\n      <td>201902</td>\n    </tr>\n    <tr>\n      <th>...</th>\n      <td>...</td>\n      <td>...</td>\n      <td>...</td>\n      <td>...</td>\n      <td>...</td>\n    </tr>\n    <tr>\n      <th>2880</th>\n      <td>2019-04-22 00:36:52</td>\n      <td>商品Y</td>\n      <td>NaN</td>\n      <td>田辺光洋</td>\n      <td>201904</td>\n    </tr>\n    <tr>\n      <th>2881</th>\n      <td>2019-04-30 14:21:09</td>\n      <td>商品Y</td>\n      <td>NaN</td>\n      <td>高原充則</td>\n      <td>201904</td>\n    </tr>\n    <tr>\n      <th>1525</th>\n      <td>2019-01-24 10:27:23</td>\n      <td>商品Y</td>\n      <td>2500.0</td>\n      <td>五十嵐春樹</td>\n      <td>201901</td>\n    </tr>\n    <tr>\n      <th>1361</th>\n      <td>2019-05-28 13:45:32</td>\n      <td>商品Y</td>\n      <td>2500.0</td>\n      <td>大崎ヒカル</td>\n      <td>201905</td>\n    </tr>\n    <tr>\n      <th>3</th>\n      <td>2019-02-12 23:40:45</td>\n      <td>商品Z</td>\n      <td>2600.0</td>\n      <td>麻生莉緒</td>\n      <td>201902</td>\n    </tr>\n  </tbody>\n</table>\n<p>2999 rows × 5 columns</p>\n</div>"
     },
     "metadata": {},
     "execution_count": 14
    }
   ],
   "source": [
    "uriage_data[\"item_name\"] = uriage_data[\"item_name\"].str.upper()\n",
    "uriage_data[\"item_name\"] = uriage_data[\"item_name\"].str.replace(\"　\", \"\")\n",
    "uriage_data[\"item_name\"] = uriage_data[\"item_name\"].str.replace(\" \", \"\")\n",
    "uriage_data.sort_values(by=['item_name'], ascending=True)"
   ]
  },
  {
   "cell_type": "code",
   "execution_count": 15,
   "metadata": {},
   "outputs": [
    {
     "output_type": "stream",
     "name": "stdout",
     "text": "['商品A' '商品S' '商品Z' '商品V' '商品O' '商品U' '商品L' '商品C' '商品I' '商品R' '商品X' '商品G'\n '商品P' '商品Q' '商品Y' '商品N' '商品W' '商品E' '商品K' '商品B' '商品F' '商品D' '商品M' '商品H'\n '商品T' '商品J']\n26\n"
    }
   ],
   "source": [
    "print(pd.unique(uriage_data.item_name))\n",
    "print(len(pd.unique(uriage_data.item_name)))"
   ]
  },
  {
   "cell_type": "markdown",
   "metadata": {},
   "source": [
    "### ノック１５：金額欠損値の補完をしよう"
   ]
  },
  {
   "cell_type": "code",
   "execution_count": 16,
   "metadata": {
    "scrolled": true
   },
   "outputs": [
    {
     "output_type": "execute_result",
     "data": {
      "text/plain": "purchase_date     False\nitem_name         False\nitem_price         True\ncustomer_name     False\npurchase_month    False\ndtype: bool"
     },
     "metadata": {},
     "execution_count": 16
    }
   ],
   "source": [
    "uriage_data.isnull().any(axis=0)"
   ]
  },
  {
   "cell_type": "code",
   "execution_count": 17,
   "metadata": {
    "scrolled": false
   },
   "outputs": [
    {
     "output_type": "execute_result",
     "data": {
      "text/plain": "        purchase_date item_name  item_price customer_name purchase_month\n0 2019-06-13 18:02:34       商品A       100.0         深井菜々美         201906\n1 2019-07-13 13:05:29       商品S      1900.0          浅田賢二         201907\n2 2019-05-11 19:42:07       商品A       100.0          南部慶二         201905\n3 2019-02-12 23:40:45       商品Z      2600.0          麻生莉緒         201902\n4 2019-04-22 03:09:35       商品A       100.0          平田鉄二         201904",
      "text/html": "<div>\n<style scoped>\n    .dataframe tbody tr th:only-of-type {\n        vertical-align: middle;\n    }\n\n    .dataframe tbody tr th {\n        vertical-align: top;\n    }\n\n    .dataframe thead th {\n        text-align: right;\n    }\n</style>\n<table border=\"1\" class=\"dataframe\">\n  <thead>\n    <tr style=\"text-align: right;\">\n      <th></th>\n      <th>purchase_date</th>\n      <th>item_name</th>\n      <th>item_price</th>\n      <th>customer_name</th>\n      <th>purchase_month</th>\n    </tr>\n  </thead>\n  <tbody>\n    <tr>\n      <th>0</th>\n      <td>2019-06-13 18:02:34</td>\n      <td>商品A</td>\n      <td>100.0</td>\n      <td>深井菜々美</td>\n      <td>201906</td>\n    </tr>\n    <tr>\n      <th>1</th>\n      <td>2019-07-13 13:05:29</td>\n      <td>商品S</td>\n      <td>1900.0</td>\n      <td>浅田賢二</td>\n      <td>201907</td>\n    </tr>\n    <tr>\n      <th>2</th>\n      <td>2019-05-11 19:42:07</td>\n      <td>商品A</td>\n      <td>100.0</td>\n      <td>南部慶二</td>\n      <td>201905</td>\n    </tr>\n    <tr>\n      <th>3</th>\n      <td>2019-02-12 23:40:45</td>\n      <td>商品Z</td>\n      <td>2600.0</td>\n      <td>麻生莉緒</td>\n      <td>201902</td>\n    </tr>\n    <tr>\n      <th>4</th>\n      <td>2019-04-22 03:09:35</td>\n      <td>商品A</td>\n      <td>100.0</td>\n      <td>平田鉄二</td>\n      <td>201904</td>\n    </tr>\n  </tbody>\n</table>\n</div>"
     },
     "metadata": {},
     "execution_count": 17
    }
   ],
   "source": [
    "flg_is_null = uriage_data[\"item_price\"].isnull()\n",
    "for trg in list(uriage_data.loc[flg_is_null, \"item_name\"].unique()):\n",
    "    price = uriage_data.loc[(~flg_is_null) & (uriage_data[\"item_name\"] == trg), \"item_price\"].max()\n",
    "    uriage_data[\"item_price\"].loc[(flg_is_null) & (uriage_data[\"item_name\"]==trg)] = price\n",
    "uriage_data.head()"
   ]
  },
  {
   "cell_type": "code",
   "execution_count": 18,
   "metadata": {
    "scrolled": true
   },
   "outputs": [
    {
     "output_type": "execute_result",
     "data": {
      "text/plain": "purchase_date     False\nitem_name         False\nitem_price        False\ncustomer_name     False\npurchase_month    False\ndtype: bool"
     },
     "metadata": {},
     "execution_count": 18
    }
   ],
   "source": [
    "uriage_data.isnull().any(axis=0)"
   ]
  },
  {
   "cell_type": "code",
   "execution_count": 19,
   "metadata": {
    "scrolled": false
   },
   "outputs": [
    {
     "output_type": "stream",
     "name": "stdout",
     "text": "商品Aの最大額：100.0の最小額：100.0\n商品Bの最大額：200.0の最小額：200.0\n商品Cの最大額：300.0の最小額：300.0\n商品Dの最大額：400.0の最小額：400.0\n商品Eの最大額：500.0の最小額：500.0\n商品Fの最大額：600.0の最小額：600.0\n商品Gの最大額：700.0の最小額：700.0\n商品Hの最大額：800.0の最小額：800.0\n商品Iの最大額：900.0の最小額：900.0\n商品Jの最大額：1000.0の最小額：1000.0\n商品Kの最大額：1100.0の最小額：1100.0\n商品Lの最大額：1200.0の最小額：1200.0\n商品Mの最大額：1300.0の最小額：1300.0\n商品Nの最大額：1400.0の最小額：1400.0\n商品Oの最大額：1500.0の最小額：1500.0\n商品Pの最大額：1600.0の最小額：1600.0\n商品Qの最大額：1700.0の最小額：1700.0\n商品Rの最大額：1800.0の最小額：1800.0\n商品Sの最大額：1900.0の最小額：1900.0\n商品Tの最大額：2000.0の最小額：2000.0\n商品Uの最大額：2100.0の最小額：2100.0\n商品Vの最大額：2200.0の最小額：2200.0\n商品Wの最大額：2300.0の最小額：2300.0\n商品Xの最大額：2400.0の最小額：2400.0\n商品Yの最大額：2500.0の最小額：2500.0\n商品Zの最大額：2600.0の最小額：2600.0\n"
    }
   ],
   "source": [
    "for trg in list(uriage_data[\"item_name\"].sort_values().unique()):\n",
    "    print(trg + \"の最大額：\" + str(uriage_data.loc[uriage_data[\"item_name\"]==trg][\"item_price\"].max()) + \"の最小額：\" + str(uriage_data.loc[uriage_data[\"item_name\"]==trg][\"item_price\"].min(skipna=False)))"
   ]
  },
  {
   "cell_type": "markdown",
   "metadata": {},
   "source": [
    "### ノック１６：顧客名の揺れを補正しよう"
   ]
  },
  {
   "cell_type": "code",
   "execution_count": 20,
   "metadata": {},
   "outputs": [
    {
     "output_type": "execute_result",
     "data": {
      "text/plain": "0     須賀ひとみ\n1    岡田　 敏也\n2      芳賀 希\n3     荻野  愛\n4     栗田 憲一\nName: 顧客名, dtype: object"
     },
     "metadata": {},
     "execution_count": 20
    }
   ],
   "source": [
    "kokyaku_data[\"顧客名\"].head()"
   ]
  },
  {
   "cell_type": "code",
   "execution_count": 21,
   "metadata": {},
   "outputs": [
    {
     "output_type": "execute_result",
     "data": {
      "text/plain": "0    深井菜々美\n1     浅田賢二\n2     南部慶二\n3     麻生莉緒\n4     平田鉄二\nName: customer_name, dtype: object"
     },
     "metadata": {},
     "execution_count": 21
    }
   ],
   "source": [
    "uriage_data[\"customer_name\"].head()"
   ]
  },
  {
   "cell_type": "code",
   "execution_count": 22,
   "metadata": {},
   "outputs": [
    {
     "output_type": "execute_result",
     "data": {
      "text/plain": "0    須賀ひとみ\n1     岡田敏也\n2      芳賀希\n3      荻野愛\n4     栗田憲一\nName: 顧客名, dtype: object"
     },
     "metadata": {},
     "execution_count": 22
    }
   ],
   "source": [
    "kokyaku_data[\"顧客名\"] = kokyaku_data[\"顧客名\"].str.replace(\"　\", \"\")\n",
    "kokyaku_data[\"顧客名\"] = kokyaku_data[\"顧客名\"].str.replace(\" \", \"\")\n",
    "kokyaku_data[\"顧客名\"].head()"
   ]
  },
  {
   "cell_type": "markdown",
   "metadata": {},
   "source": [
    "### ノック１７：日付の揺れを補正しよう"
   ]
  },
  {
   "cell_type": "code",
   "execution_count": 23,
   "metadata": {
    "scrolled": true
   },
   "outputs": [
    {
     "output_type": "execute_result",
     "data": {
      "text/plain": "22"
     },
     "metadata": {},
     "execution_count": 23
    }
   ],
   "source": [
    "flg_is_serial = kokyaku_data[\"登録日\"].astype(\"str\").str.isdigit()\n",
    "flg_is_serial.sum()"
   ]
  },
  {
   "cell_type": "code",
   "execution_count": 24,
   "metadata": {
    "scrolled": false
   },
   "outputs": [
    {
     "output_type": "execute_result",
     "data": {
      "text/plain": "1     2017-02-18\n3     2017-05-19\n4     2018-01-29\n21    2017-07-06\n27    2017-06-17\n47    2017-01-08\n49    2017-07-15\n53    2017-04-10\n76    2018-03-31\n80    2018-01-12\n99    2017-06-01\n114   2018-06-05\n118   2018-01-31\n122   2018-04-18\n139   2017-05-27\n143   2017-03-26\n155   2017-01-21\n172   2018-03-24\n179   2017-01-10\n183   2017-07-26\n186   2018-07-15\n192   2018-06-10\nName: 登録日, dtype: datetime64[ns]"
     },
     "metadata": {},
     "execution_count": 24
    }
   ],
   "source": [
    "fromSerial = pd.to_timedelta(kokyaku_data.loc[flg_is_serial, \"登録日\"].astype(\"float\"), unit=\"D\") + pd.to_datetime(\"1900/01/01\")\n",
    "fromSerial"
   ]
  },
  {
   "cell_type": "code",
   "execution_count": 25,
   "metadata": {
    "scrolled": true
   },
   "outputs": [
    {
     "output_type": "execute_result",
     "data": {
      "text/plain": "0     2018-01-04\n2     2018-01-07\n5     2017-06-20\n6     2018-06-11\n7     2017-05-19\n         ...    \n195   2017-06-20\n196   2018-06-20\n197   2017-04-29\n198   2019-04-19\n199   2019-04-23\nName: 登録日, Length: 178, dtype: datetime64[ns]"
     },
     "metadata": {},
     "execution_count": 25
    }
   ],
   "source": [
    "fromString = pd.to_datetime(kokyaku_data.loc[~flg_is_serial, \"登録日\"])\n",
    "fromString"
   ]
  },
  {
   "cell_type": "code",
   "execution_count": 26,
   "metadata": {
    "scrolled": true
   },
   "outputs": [
    {
     "output_type": "execute_result",
     "data": {
      "text/plain": "       顧客名           かな  地域                         メールアドレス        登録日\n0    須賀ひとみ       すが ひとみ  H市         suga_hitomi@example.com 2018-01-04\n1     岡田敏也      おかだ としや  E市       okada_toshiya@example.com 2017-02-18\n2      芳賀希       はが のぞみ  A市         haga_nozomi@example.com 2018-01-07\n3      荻野愛       おぎの あい  F市            ogino_ai@example.com 2017-05-19\n4     栗田憲一     くりた けんいち  E市      kurita_kenichi@example.com 2018-01-29\n..     ...          ...  ..                             ...        ...\n195   川上りえ      かわかみ りえ  G市        kawakami_rie@example.com 2017-06-20\n196   小松季衣      こまつ としえ  E市      komatsu_toshie@example.com 2018-06-20\n197   白鳥りえ      しらとり りえ  F市       shiratori_rie@example.com 2017-04-29\n198  大西隆之介  おおにし りゅうのすけ  H市  oonishi_ryuunosuke@example.com 2019-04-19\n199   福井美希       ふくい みき  D市         fukui_miki1@example.com 2019-04-23\n\n[200 rows x 5 columns]",
      "text/html": "<div>\n<style scoped>\n    .dataframe tbody tr th:only-of-type {\n        vertical-align: middle;\n    }\n\n    .dataframe tbody tr th {\n        vertical-align: top;\n    }\n\n    .dataframe thead th {\n        text-align: right;\n    }\n</style>\n<table border=\"1\" class=\"dataframe\">\n  <thead>\n    <tr style=\"text-align: right;\">\n      <th></th>\n      <th>顧客名</th>\n      <th>かな</th>\n      <th>地域</th>\n      <th>メールアドレス</th>\n      <th>登録日</th>\n    </tr>\n  </thead>\n  <tbody>\n    <tr>\n      <th>0</th>\n      <td>須賀ひとみ</td>\n      <td>すが ひとみ</td>\n      <td>H市</td>\n      <td>suga_hitomi@example.com</td>\n      <td>2018-01-04</td>\n    </tr>\n    <tr>\n      <th>1</th>\n      <td>岡田敏也</td>\n      <td>おかだ としや</td>\n      <td>E市</td>\n      <td>okada_toshiya@example.com</td>\n      <td>2017-02-18</td>\n    </tr>\n    <tr>\n      <th>2</th>\n      <td>芳賀希</td>\n      <td>はが のぞみ</td>\n      <td>A市</td>\n      <td>haga_nozomi@example.com</td>\n      <td>2018-01-07</td>\n    </tr>\n    <tr>\n      <th>3</th>\n      <td>荻野愛</td>\n      <td>おぎの あい</td>\n      <td>F市</td>\n      <td>ogino_ai@example.com</td>\n      <td>2017-05-19</td>\n    </tr>\n    <tr>\n      <th>4</th>\n      <td>栗田憲一</td>\n      <td>くりた けんいち</td>\n      <td>E市</td>\n      <td>kurita_kenichi@example.com</td>\n      <td>2018-01-29</td>\n    </tr>\n    <tr>\n      <th>...</th>\n      <td>...</td>\n      <td>...</td>\n      <td>...</td>\n      <td>...</td>\n      <td>...</td>\n    </tr>\n    <tr>\n      <th>195</th>\n      <td>川上りえ</td>\n      <td>かわかみ りえ</td>\n      <td>G市</td>\n      <td>kawakami_rie@example.com</td>\n      <td>2017-06-20</td>\n    </tr>\n    <tr>\n      <th>196</th>\n      <td>小松季衣</td>\n      <td>こまつ としえ</td>\n      <td>E市</td>\n      <td>komatsu_toshie@example.com</td>\n      <td>2018-06-20</td>\n    </tr>\n    <tr>\n      <th>197</th>\n      <td>白鳥りえ</td>\n      <td>しらとり りえ</td>\n      <td>F市</td>\n      <td>shiratori_rie@example.com</td>\n      <td>2017-04-29</td>\n    </tr>\n    <tr>\n      <th>198</th>\n      <td>大西隆之介</td>\n      <td>おおにし りゅうのすけ</td>\n      <td>H市</td>\n      <td>oonishi_ryuunosuke@example.com</td>\n      <td>2019-04-19</td>\n    </tr>\n    <tr>\n      <th>199</th>\n      <td>福井美希</td>\n      <td>ふくい みき</td>\n      <td>D市</td>\n      <td>fukui_miki1@example.com</td>\n      <td>2019-04-23</td>\n    </tr>\n  </tbody>\n</table>\n<p>200 rows × 5 columns</p>\n</div>"
     },
     "metadata": {},
     "execution_count": 26
    }
   ],
   "source": [
    "kokyaku_data[\"登録日\"] = pd.concat([fromSerial, fromString])\n",
    "kokyaku_data"
   ]
  },
  {
   "cell_type": "code",
   "execution_count": 27,
   "metadata": {
    "scrolled": true
   },
   "outputs": [
    {
     "output_type": "stream",
     "name": "stdout",
     "text": "登録年月\n201701    15\n201702    11\n201703    14\n201704    15\n201705    13\n201706    14\n201707    17\n201801    13\n201802    15\n201803    17\n201804     5\n201805    19\n201806    13\n201807    17\n201904     2\nName: 顧客名, dtype: int64\n200\n"
    }
   ],
   "source": [
    "kokyaku_data[\"登録年月\"] = kokyaku_data[\"登録日\"].dt.strftime(\"%Y%m\")\n",
    "rslt = kokyaku_data.groupby(\"登録年月\").count()[\"顧客名\"]\n",
    "print(rslt)\n",
    "print(len(kokyaku_data))"
   ]
  },
  {
   "cell_type": "code",
   "execution_count": 28,
   "metadata": {},
   "outputs": [
    {
     "output_type": "execute_result",
     "data": {
      "text/plain": "0"
     },
     "metadata": {},
     "execution_count": 28
    }
   ],
   "source": [
    "flg_is_serial = kokyaku_data[\"登録日\"].astype(\"str\").str.isdigit()\n",
    "flg_is_serial.sum()"
   ]
  },
  {
   "cell_type": "markdown",
   "metadata": {},
   "source": [
    "### ノック１８：顧客名をキーに２つのデータを結合(ジョイン)しよう"
   ]
  },
  {
   "cell_type": "code",
   "execution_count": 29,
   "metadata": {},
   "outputs": [
    {
     "output_type": "execute_result",
     "data": {
      "text/plain": "           purchase_date item_name  ...        登録日    登録年月\n0    2019-06-13 18:02:34       商品A  ... 2017-01-26  201701\n1    2019-07-13 13:05:29       商品S  ... 2018-04-07  201804\n2    2019-05-11 19:42:07       商品A  ... 2018-06-19  201806\n3    2019-02-12 23:40:45       商品Z  ... 2018-07-22  201807\n4    2019-04-22 03:09:35       商品A  ... 2017-06-07  201706\n...                  ...       ...  ...        ...     ...\n2994 2019-02-15 02:56:39       商品Y  ... 2017-07-01  201707\n2995 2019-06-22 04:03:43       商品M  ... 2018-03-31  201803\n2996 2019-03-29 11:14:05       商品Q  ... 2017-03-15  201703\n2997 2019-07-14 12:56:49       商品H  ... 2018-07-15  201807\n2998 2019-07-21 00:31:36       商品D  ... 2017-02-05  201702\n\n[2999 rows x 10 columns]",
      "text/html": "<div>\n<style scoped>\n    .dataframe tbody tr th:only-of-type {\n        vertical-align: middle;\n    }\n\n    .dataframe tbody tr th {\n        vertical-align: top;\n    }\n\n    .dataframe thead th {\n        text-align: right;\n    }\n</style>\n<table border=\"1\" class=\"dataframe\">\n  <thead>\n    <tr style=\"text-align: right;\">\n      <th></th>\n      <th>purchase_date</th>\n      <th>item_name</th>\n      <th>item_price</th>\n      <th>purchase_month</th>\n      <th>顧客名</th>\n      <th>かな</th>\n      <th>地域</th>\n      <th>メールアドレス</th>\n      <th>登録日</th>\n      <th>登録年月</th>\n    </tr>\n  </thead>\n  <tbody>\n    <tr>\n      <th>0</th>\n      <td>2019-06-13 18:02:34</td>\n      <td>商品A</td>\n      <td>100.0</td>\n      <td>201906</td>\n      <td>深井菜々美</td>\n      <td>ふかい ななみ</td>\n      <td>C市</td>\n      <td>fukai_nanami@example.com</td>\n      <td>2017-01-26</td>\n      <td>201701</td>\n    </tr>\n    <tr>\n      <th>1</th>\n      <td>2019-07-13 13:05:29</td>\n      <td>商品S</td>\n      <td>1900.0</td>\n      <td>201907</td>\n      <td>浅田賢二</td>\n      <td>あさだ けんじ</td>\n      <td>C市</td>\n      <td>asada_kenji@example.com</td>\n      <td>2018-04-07</td>\n      <td>201804</td>\n    </tr>\n    <tr>\n      <th>2</th>\n      <td>2019-05-11 19:42:07</td>\n      <td>商品A</td>\n      <td>100.0</td>\n      <td>201905</td>\n      <td>南部慶二</td>\n      <td>なんぶ けいじ</td>\n      <td>A市</td>\n      <td>nannbu_keiji@example.com</td>\n      <td>2018-06-19</td>\n      <td>201806</td>\n    </tr>\n    <tr>\n      <th>3</th>\n      <td>2019-02-12 23:40:45</td>\n      <td>商品Z</td>\n      <td>2600.0</td>\n      <td>201902</td>\n      <td>麻生莉緒</td>\n      <td>あそう りお</td>\n      <td>D市</td>\n      <td>asou_rio@example.com</td>\n      <td>2018-07-22</td>\n      <td>201807</td>\n    </tr>\n    <tr>\n      <th>4</th>\n      <td>2019-04-22 03:09:35</td>\n      <td>商品A</td>\n      <td>100.0</td>\n      <td>201904</td>\n      <td>平田鉄二</td>\n      <td>ひらた てつじ</td>\n      <td>D市</td>\n      <td>hirata_tetsuji@example.com</td>\n      <td>2017-06-07</td>\n      <td>201706</td>\n    </tr>\n    <tr>\n      <th>...</th>\n      <td>...</td>\n      <td>...</td>\n      <td>...</td>\n      <td>...</td>\n      <td>...</td>\n      <td>...</td>\n      <td>...</td>\n      <td>...</td>\n      <td>...</td>\n      <td>...</td>\n    </tr>\n    <tr>\n      <th>2994</th>\n      <td>2019-02-15 02:56:39</td>\n      <td>商品Y</td>\n      <td>2500.0</td>\n      <td>201902</td>\n      <td>福島友也</td>\n      <td>ふくしま ともや</td>\n      <td>B市</td>\n      <td>fukushima_tomoya@example.com</td>\n      <td>2017-07-01</td>\n      <td>201707</td>\n    </tr>\n    <tr>\n      <th>2995</th>\n      <td>2019-06-22 04:03:43</td>\n      <td>商品M</td>\n      <td>1300.0</td>\n      <td>201906</td>\n      <td>大倉晃司</td>\n      <td>おおくら こうじ</td>\n      <td>E市</td>\n      <td>ookura_kouji@example.com</td>\n      <td>2018-03-31</td>\n      <td>201803</td>\n    </tr>\n    <tr>\n      <th>2996</th>\n      <td>2019-03-29 11:14:05</td>\n      <td>商品Q</td>\n      <td>1700.0</td>\n      <td>201903</td>\n      <td>尾形小雁</td>\n      <td>おがた こがん</td>\n      <td>B市</td>\n      <td>ogata_kogan@example.com</td>\n      <td>2017-03-15</td>\n      <td>201703</td>\n    </tr>\n    <tr>\n      <th>2997</th>\n      <td>2019-07-14 12:56:49</td>\n      <td>商品H</td>\n      <td>800.0</td>\n      <td>201907</td>\n      <td>芦田博之</td>\n      <td>あしだ ひろゆき</td>\n      <td>E市</td>\n      <td>ashida_hiroyuki@example.com</td>\n      <td>2018-07-15</td>\n      <td>201807</td>\n    </tr>\n    <tr>\n      <th>2998</th>\n      <td>2019-07-21 00:31:36</td>\n      <td>商品D</td>\n      <td>400.0</td>\n      <td>201907</td>\n      <td>石田郁恵</td>\n      <td>いしだ いくえ</td>\n      <td>B市</td>\n      <td>ishida_ikue@example.com</td>\n      <td>2017-02-05</td>\n      <td>201702</td>\n    </tr>\n  </tbody>\n</table>\n<p>2999 rows × 10 columns</p>\n</div>"
     },
     "metadata": {},
     "execution_count": 29
    }
   ],
   "source": [
    "join_data = pd.merge(uriage_data, kokyaku_data, left_on=\"customer_name\", right_on=\"顧客名\", how=\"left\")\n",
    "join_data = join_data.drop(\"customer_name\", axis=1)\n",
    "join_data"
   ]
  },
  {
   "cell_type": "markdown",
   "metadata": {},
   "source": [
    "### ノック１９：クレンジングしたデータをダンプしよう"
   ]
  },
  {
   "cell_type": "code",
   "execution_count": 30,
   "metadata": {},
   "outputs": [
    {
     "output_type": "execute_result",
     "data": {
      "text/plain": "           purchase_date  ...        登録日\n0    2019-06-13 18:02:34  ... 2017-01-26\n1    2019-07-13 13:05:29  ... 2018-04-07\n2    2019-05-11 19:42:07  ... 2018-06-19\n3    2019-02-12 23:40:45  ... 2018-07-22\n4    2019-04-22 03:09:35  ... 2017-06-07\n...                  ...  ...        ...\n2994 2019-02-15 02:56:39  ... 2017-07-01\n2995 2019-06-22 04:03:43  ... 2018-03-31\n2996 2019-03-29 11:14:05  ... 2017-03-15\n2997 2019-07-14 12:56:49  ... 2018-07-15\n2998 2019-07-21 00:31:36  ... 2017-02-05\n\n[2999 rows x 9 columns]",
      "text/html": "<div>\n<style scoped>\n    .dataframe tbody tr th:only-of-type {\n        vertical-align: middle;\n    }\n\n    .dataframe tbody tr th {\n        vertical-align: top;\n    }\n\n    .dataframe thead th {\n        text-align: right;\n    }\n</style>\n<table border=\"1\" class=\"dataframe\">\n  <thead>\n    <tr style=\"text-align: right;\">\n      <th></th>\n      <th>purchase_date</th>\n      <th>purchase_month</th>\n      <th>item_name</th>\n      <th>item_price</th>\n      <th>顧客名</th>\n      <th>かな</th>\n      <th>地域</th>\n      <th>メールアドレス</th>\n      <th>登録日</th>\n    </tr>\n  </thead>\n  <tbody>\n    <tr>\n      <th>0</th>\n      <td>2019-06-13 18:02:34</td>\n      <td>201906</td>\n      <td>商品A</td>\n      <td>100.0</td>\n      <td>深井菜々美</td>\n      <td>ふかい ななみ</td>\n      <td>C市</td>\n      <td>fukai_nanami@example.com</td>\n      <td>2017-01-26</td>\n    </tr>\n    <tr>\n      <th>1</th>\n      <td>2019-07-13 13:05:29</td>\n      <td>201907</td>\n      <td>商品S</td>\n      <td>1900.0</td>\n      <td>浅田賢二</td>\n      <td>あさだ けんじ</td>\n      <td>C市</td>\n      <td>asada_kenji@example.com</td>\n      <td>2018-04-07</td>\n    </tr>\n    <tr>\n      <th>2</th>\n      <td>2019-05-11 19:42:07</td>\n      <td>201905</td>\n      <td>商品A</td>\n      <td>100.0</td>\n      <td>南部慶二</td>\n      <td>なんぶ けいじ</td>\n      <td>A市</td>\n      <td>nannbu_keiji@example.com</td>\n      <td>2018-06-19</td>\n    </tr>\n    <tr>\n      <th>3</th>\n      <td>2019-02-12 23:40:45</td>\n      <td>201902</td>\n      <td>商品Z</td>\n      <td>2600.0</td>\n      <td>麻生莉緒</td>\n      <td>あそう りお</td>\n      <td>D市</td>\n      <td>asou_rio@example.com</td>\n      <td>2018-07-22</td>\n    </tr>\n    <tr>\n      <th>4</th>\n      <td>2019-04-22 03:09:35</td>\n      <td>201904</td>\n      <td>商品A</td>\n      <td>100.0</td>\n      <td>平田鉄二</td>\n      <td>ひらた てつじ</td>\n      <td>D市</td>\n      <td>hirata_tetsuji@example.com</td>\n      <td>2017-06-07</td>\n    </tr>\n    <tr>\n      <th>...</th>\n      <td>...</td>\n      <td>...</td>\n      <td>...</td>\n      <td>...</td>\n      <td>...</td>\n      <td>...</td>\n      <td>...</td>\n      <td>...</td>\n      <td>...</td>\n    </tr>\n    <tr>\n      <th>2994</th>\n      <td>2019-02-15 02:56:39</td>\n      <td>201902</td>\n      <td>商品Y</td>\n      <td>2500.0</td>\n      <td>福島友也</td>\n      <td>ふくしま ともや</td>\n      <td>B市</td>\n      <td>fukushima_tomoya@example.com</td>\n      <td>2017-07-01</td>\n    </tr>\n    <tr>\n      <th>2995</th>\n      <td>2019-06-22 04:03:43</td>\n      <td>201906</td>\n      <td>商品M</td>\n      <td>1300.0</td>\n      <td>大倉晃司</td>\n      <td>おおくら こうじ</td>\n      <td>E市</td>\n      <td>ookura_kouji@example.com</td>\n      <td>2018-03-31</td>\n    </tr>\n    <tr>\n      <th>2996</th>\n      <td>2019-03-29 11:14:05</td>\n      <td>201903</td>\n      <td>商品Q</td>\n      <td>1700.0</td>\n      <td>尾形小雁</td>\n      <td>おがた こがん</td>\n      <td>B市</td>\n      <td>ogata_kogan@example.com</td>\n      <td>2017-03-15</td>\n    </tr>\n    <tr>\n      <th>2997</th>\n      <td>2019-07-14 12:56:49</td>\n      <td>201907</td>\n      <td>商品H</td>\n      <td>800.0</td>\n      <td>芦田博之</td>\n      <td>あしだ ひろゆき</td>\n      <td>E市</td>\n      <td>ashida_hiroyuki@example.com</td>\n      <td>2018-07-15</td>\n    </tr>\n    <tr>\n      <th>2998</th>\n      <td>2019-07-21 00:31:36</td>\n      <td>201907</td>\n      <td>商品D</td>\n      <td>400.0</td>\n      <td>石田郁恵</td>\n      <td>いしだ いくえ</td>\n      <td>B市</td>\n      <td>ishida_ikue@example.com</td>\n      <td>2017-02-05</td>\n    </tr>\n  </tbody>\n</table>\n<p>2999 rows × 9 columns</p>\n</div>"
     },
     "metadata": {},
     "execution_count": 30
    }
   ],
   "source": [
    "dump_data = join_data[[\"purchase_date\", \"purchase_month\", \"item_name\", \"item_price\", \"顧客名\", \"かな\", \"地域\", \"メールアドレス\", \"登録日\"]]\n",
    "dump_data"
   ]
  },
  {
   "cell_type": "code",
   "execution_count": 31,
   "metadata": {},
   "outputs": [],
   "source": [
    "dump_data.to_csv(\"dump_data.csv\", index=False)"
   ]
  },
  {
   "cell_type": "markdown",
   "metadata": {},
   "source": [
    "### ノック２０：データを集計しよう"
   ]
  },
  {
   "cell_type": "code",
   "execution_count": 33,
   "metadata": {
    "scrolled": true
   },
   "outputs": [
    {
     "output_type": "execute_result",
     "data": {
      "text/plain": "            purchase_date  ...                  登録日\n0     2019-06-13 18:02:34  ...  2017-01-26 00:00:00\n1     2019-07-13 13:05:29  ...  2018-04-07 00:00:00\n2     2019-05-11 19:42:07  ...  2018-06-19 00:00:00\n3     2019-02-12 23:40:45  ...  2018-07-22 00:00:00\n4     2019-04-22 03:09:35  ...  2017-06-07 00:00:00\n...                   ...  ...                  ...\n2994  2019-02-15 02:56:39  ...  2017-07-01 00:00:00\n2995  2019-06-22 04:03:43  ...  2018-03-31 00:00:00\n2996  2019-03-29 11:14:05  ...  2017-03-15 00:00:00\n2997  2019-07-14 12:56:49  ...  2018-07-15 00:00:00\n2998  2019-07-21 00:31:36  ...  2017-02-05 00:00:00\n\n[2999 rows x 9 columns]",
      "text/html": "<div>\n<style scoped>\n    .dataframe tbody tr th:only-of-type {\n        vertical-align: middle;\n    }\n\n    .dataframe tbody tr th {\n        vertical-align: top;\n    }\n\n    .dataframe thead th {\n        text-align: right;\n    }\n</style>\n<table border=\"1\" class=\"dataframe\">\n  <thead>\n    <tr style=\"text-align: right;\">\n      <th></th>\n      <th>purchase_date</th>\n      <th>purchase_month</th>\n      <th>item_name</th>\n      <th>item_price</th>\n      <th>顧客名</th>\n      <th>かな</th>\n      <th>地域</th>\n      <th>メールアドレス</th>\n      <th>登録日</th>\n    </tr>\n  </thead>\n  <tbody>\n    <tr>\n      <th>0</th>\n      <td>2019-06-13 18:02:34</td>\n      <td>201906</td>\n      <td>商品A</td>\n      <td>100.0</td>\n      <td>深井菜々美</td>\n      <td>ふかい ななみ</td>\n      <td>C市</td>\n      <td>fukai_nanami@example.com</td>\n      <td>2017-01-26 00:00:00</td>\n    </tr>\n    <tr>\n      <th>1</th>\n      <td>2019-07-13 13:05:29</td>\n      <td>201907</td>\n      <td>商品S</td>\n      <td>1900.0</td>\n      <td>浅田賢二</td>\n      <td>あさだ けんじ</td>\n      <td>C市</td>\n      <td>asada_kenji@example.com</td>\n      <td>2018-04-07 00:00:00</td>\n    </tr>\n    <tr>\n      <th>2</th>\n      <td>2019-05-11 19:42:07</td>\n      <td>201905</td>\n      <td>商品A</td>\n      <td>100.0</td>\n      <td>南部慶二</td>\n      <td>なんぶ けいじ</td>\n      <td>A市</td>\n      <td>nannbu_keiji@example.com</td>\n      <td>2018-06-19 00:00:00</td>\n    </tr>\n    <tr>\n      <th>3</th>\n      <td>2019-02-12 23:40:45</td>\n      <td>201902</td>\n      <td>商品Z</td>\n      <td>2600.0</td>\n      <td>麻生莉緒</td>\n      <td>あそう りお</td>\n      <td>D市</td>\n      <td>asou_rio@example.com</td>\n      <td>2018-07-22 00:00:00</td>\n    </tr>\n    <tr>\n      <th>4</th>\n      <td>2019-04-22 03:09:35</td>\n      <td>201904</td>\n      <td>商品A</td>\n      <td>100.0</td>\n      <td>平田鉄二</td>\n      <td>ひらた てつじ</td>\n      <td>D市</td>\n      <td>hirata_tetsuji@example.com</td>\n      <td>2017-06-07 00:00:00</td>\n    </tr>\n    <tr>\n      <th>...</th>\n      <td>...</td>\n      <td>...</td>\n      <td>...</td>\n      <td>...</td>\n      <td>...</td>\n      <td>...</td>\n      <td>...</td>\n      <td>...</td>\n      <td>...</td>\n    </tr>\n    <tr>\n      <th>2994</th>\n      <td>2019-02-15 02:56:39</td>\n      <td>201902</td>\n      <td>商品Y</td>\n      <td>2500.0</td>\n      <td>福島友也</td>\n      <td>ふくしま ともや</td>\n      <td>B市</td>\n      <td>fukushima_tomoya@example.com</td>\n      <td>2017-07-01 00:00:00</td>\n    </tr>\n    <tr>\n      <th>2995</th>\n      <td>2019-06-22 04:03:43</td>\n      <td>201906</td>\n      <td>商品M</td>\n      <td>1300.0</td>\n      <td>大倉晃司</td>\n      <td>おおくら こうじ</td>\n      <td>E市</td>\n      <td>ookura_kouji@example.com</td>\n      <td>2018-03-31 00:00:00</td>\n    </tr>\n    <tr>\n      <th>2996</th>\n      <td>2019-03-29 11:14:05</td>\n      <td>201903</td>\n      <td>商品Q</td>\n      <td>1700.0</td>\n      <td>尾形小雁</td>\n      <td>おがた こがん</td>\n      <td>B市</td>\n      <td>ogata_kogan@example.com</td>\n      <td>2017-03-15 00:00:00</td>\n    </tr>\n    <tr>\n      <th>2997</th>\n      <td>2019-07-14 12:56:49</td>\n      <td>201907</td>\n      <td>商品H</td>\n      <td>800.0</td>\n      <td>芦田博之</td>\n      <td>あしだ ひろゆき</td>\n      <td>E市</td>\n      <td>ashida_hiroyuki@example.com</td>\n      <td>2018-07-15 00:00:00</td>\n    </tr>\n    <tr>\n      <th>2998</th>\n      <td>2019-07-21 00:31:36</td>\n      <td>201907</td>\n      <td>商品D</td>\n      <td>400.0</td>\n      <td>石田郁恵</td>\n      <td>いしだ いくえ</td>\n      <td>B市</td>\n      <td>ishida_ikue@example.com</td>\n      <td>2017-02-05 00:00:00</td>\n    </tr>\n  </tbody>\n</table>\n<p>2999 rows × 9 columns</p>\n</div>"
     },
     "metadata": {},
     "execution_count": 33
    }
   ],
   "source": [
    "import_data = pd.read_csv('dump_data.csv')\n",
    "import_data"
   ]
  },
  {
   "cell_type": "code",
   "execution_count": 35,
   "metadata": {
    "scrolled": true
   },
   "outputs": [
    {
     "output_type": "execute_result",
     "data": {
      "text/plain": "item_name       商品A  商品B  商品C  商品D  商品E  商品F  ...  商品U  商品V  商品W  商品X  商品Y  商品Z\npurchase_month                                ...                              \n201901           18   13   19   17   18   15  ...    7   22   13   14   10    0\n201902           19   14   26   21   16   14  ...   19   22   24   16   11    1\n201903           17   21   20   17    9   27  ...   23   18   16   21   16    0\n201904           17   19   24   20   18   17  ...   11   15   14   16   20    0\n201905           24   14   16   14   19   18  ...   16    9   21   16   20    0\n201906           24   12   11   19   13   18  ...   18   20   17   15   13    0\n201907           20   20   17   17   12   17  ...   13   28   16   18   12    0\n\n[7 rows x 26 columns]",
      "text/html": "<div>\n<style scoped>\n    .dataframe tbody tr th:only-of-type {\n        vertical-align: middle;\n    }\n\n    .dataframe tbody tr th {\n        vertical-align: top;\n    }\n\n    .dataframe thead th {\n        text-align: right;\n    }\n</style>\n<table border=\"1\" class=\"dataframe\">\n  <thead>\n    <tr style=\"text-align: right;\">\n      <th>item_name</th>\n      <th>商品A</th>\n      <th>商品B</th>\n      <th>商品C</th>\n      <th>商品D</th>\n      <th>商品E</th>\n      <th>商品F</th>\n      <th>商品G</th>\n      <th>商品H</th>\n      <th>商品I</th>\n      <th>商品J</th>\n      <th>商品K</th>\n      <th>商品L</th>\n      <th>商品M</th>\n      <th>商品N</th>\n      <th>商品O</th>\n      <th>商品P</th>\n      <th>商品Q</th>\n      <th>商品R</th>\n      <th>商品S</th>\n      <th>商品T</th>\n      <th>商品U</th>\n      <th>商品V</th>\n      <th>商品W</th>\n      <th>商品X</th>\n      <th>商品Y</th>\n      <th>商品Z</th>\n    </tr>\n    <tr>\n      <th>purchase_month</th>\n      <th></th>\n      <th></th>\n      <th></th>\n      <th></th>\n      <th></th>\n      <th></th>\n      <th></th>\n      <th></th>\n      <th></th>\n      <th></th>\n      <th></th>\n      <th></th>\n      <th></th>\n      <th></th>\n      <th></th>\n      <th></th>\n      <th></th>\n      <th></th>\n      <th></th>\n      <th></th>\n      <th></th>\n      <th></th>\n      <th></th>\n      <th></th>\n      <th></th>\n      <th></th>\n    </tr>\n  </thead>\n  <tbody>\n    <tr>\n      <th>201901</th>\n      <td>18</td>\n      <td>13</td>\n      <td>19</td>\n      <td>17</td>\n      <td>18</td>\n      <td>15</td>\n      <td>11</td>\n      <td>16</td>\n      <td>18</td>\n      <td>17</td>\n      <td>20</td>\n      <td>19</td>\n      <td>19</td>\n      <td>16</td>\n      <td>24</td>\n      <td>16</td>\n      <td>17</td>\n      <td>21</td>\n      <td>20</td>\n      <td>17</td>\n      <td>7</td>\n      <td>22</td>\n      <td>13</td>\n      <td>14</td>\n      <td>10</td>\n      <td>0</td>\n    </tr>\n    <tr>\n      <th>201902</th>\n      <td>19</td>\n      <td>14</td>\n      <td>26</td>\n      <td>21</td>\n      <td>16</td>\n      <td>14</td>\n      <td>14</td>\n      <td>17</td>\n      <td>12</td>\n      <td>14</td>\n      <td>16</td>\n      <td>11</td>\n      <td>15</td>\n      <td>20</td>\n      <td>19</td>\n      <td>19</td>\n      <td>22</td>\n      <td>22</td>\n      <td>22</td>\n      <td>23</td>\n      <td>19</td>\n      <td>22</td>\n      <td>24</td>\n      <td>16</td>\n      <td>11</td>\n      <td>1</td>\n    </tr>\n    <tr>\n      <th>201903</th>\n      <td>17</td>\n      <td>21</td>\n      <td>20</td>\n      <td>17</td>\n      <td>9</td>\n      <td>27</td>\n      <td>14</td>\n      <td>18</td>\n      <td>12</td>\n      <td>16</td>\n      <td>14</td>\n      <td>20</td>\n      <td>22</td>\n      <td>13</td>\n      <td>11</td>\n      <td>21</td>\n      <td>23</td>\n      <td>16</td>\n      <td>20</td>\n      <td>12</td>\n      <td>23</td>\n      <td>18</td>\n      <td>16</td>\n      <td>21</td>\n      <td>16</td>\n      <td>0</td>\n    </tr>\n    <tr>\n      <th>201904</th>\n      <td>17</td>\n      <td>19</td>\n      <td>24</td>\n      <td>20</td>\n      <td>18</td>\n      <td>17</td>\n      <td>14</td>\n      <td>11</td>\n      <td>18</td>\n      <td>13</td>\n      <td>14</td>\n      <td>15</td>\n      <td>11</td>\n      <td>20</td>\n      <td>15</td>\n      <td>15</td>\n      <td>20</td>\n      <td>20</td>\n      <td>16</td>\n      <td>16</td>\n      <td>11</td>\n      <td>15</td>\n      <td>14</td>\n      <td>16</td>\n      <td>20</td>\n      <td>0</td>\n    </tr>\n    <tr>\n      <th>201905</th>\n      <td>24</td>\n      <td>14</td>\n      <td>16</td>\n      <td>14</td>\n      <td>19</td>\n      <td>18</td>\n      <td>23</td>\n      <td>15</td>\n      <td>16</td>\n      <td>11</td>\n      <td>18</td>\n      <td>13</td>\n      <td>18</td>\n      <td>19</td>\n      <td>18</td>\n      <td>20</td>\n      <td>13</td>\n      <td>22</td>\n      <td>18</td>\n      <td>16</td>\n      <td>16</td>\n      <td>9</td>\n      <td>21</td>\n      <td>16</td>\n      <td>20</td>\n      <td>0</td>\n    </tr>\n    <tr>\n      <th>201906</th>\n      <td>24</td>\n      <td>12</td>\n      <td>11</td>\n      <td>19</td>\n      <td>13</td>\n      <td>18</td>\n      <td>15</td>\n      <td>13</td>\n      <td>19</td>\n      <td>22</td>\n      <td>15</td>\n      <td>15</td>\n      <td>17</td>\n      <td>16</td>\n      <td>15</td>\n      <td>18</td>\n      <td>15</td>\n      <td>16</td>\n      <td>21</td>\n      <td>12</td>\n      <td>18</td>\n      <td>20</td>\n      <td>17</td>\n      <td>15</td>\n      <td>13</td>\n      <td>0</td>\n    </tr>\n    <tr>\n      <th>201907</th>\n      <td>20</td>\n      <td>20</td>\n      <td>17</td>\n      <td>17</td>\n      <td>12</td>\n      <td>17</td>\n      <td>19</td>\n      <td>19</td>\n      <td>19</td>\n      <td>23</td>\n      <td>12</td>\n      <td>17</td>\n      <td>11</td>\n      <td>15</td>\n      <td>22</td>\n      <td>26</td>\n      <td>15</td>\n      <td>19</td>\n      <td>23</td>\n      <td>21</td>\n      <td>13</td>\n      <td>28</td>\n      <td>16</td>\n      <td>18</td>\n      <td>12</td>\n      <td>0</td>\n    </tr>\n  </tbody>\n</table>\n</div>"
     },
     "metadata": {},
     "execution_count": 35
    }
   ],
   "source": [
    "byItem = import_data.pivot_table(index=\"purchase_month\", columns=\"item_name\", aggfunc=\"size\", fill_value=0)\n",
    "byItem"
   ]
  },
  {
   "cell_type": "code",
   "execution_count": 37,
   "metadata": {},
   "outputs": [
    {
     "output_type": "execute_result",
     "data": {
      "text/plain": "item_name        商品A   商品B   商品C   商品D   商品E  ...    商品V    商品W    商品X    商品Y   商品Z\npurchase_month                                ...                                  \n201901          1800  2600  5700  6800  9000  ...  48400  29900  33600  25000     0\n201902          1900  2800  7800  8400  8000  ...  48400  55200  38400  27500  2600\n201903          1700  4200  6000  6800  4500  ...  39600  36800  50400  40000     0\n201904          1700  3800  7200  8000  9000  ...  33000  32200  38400  50000     0\n201905          2400  2800  4800  5600  9500  ...  19800  48300  38400  50000     0\n201906          2400  2400  3300  7600  6500  ...  44000  39100  36000  32500     0\n201907          2000  4000  5100  6800  6000  ...  61600  36800  43200  30000     0\n\n[7 rows x 26 columns]",
      "text/html": "<div>\n<style scoped>\n    .dataframe tbody tr th:only-of-type {\n        vertical-align: middle;\n    }\n\n    .dataframe tbody tr th {\n        vertical-align: top;\n    }\n\n    .dataframe thead th {\n        text-align: right;\n    }\n</style>\n<table border=\"1\" class=\"dataframe\">\n  <thead>\n    <tr style=\"text-align: right;\">\n      <th>item_name</th>\n      <th>商品A</th>\n      <th>商品B</th>\n      <th>商品C</th>\n      <th>商品D</th>\n      <th>商品E</th>\n      <th>商品F</th>\n      <th>商品G</th>\n      <th>商品H</th>\n      <th>商品I</th>\n      <th>商品J</th>\n      <th>商品K</th>\n      <th>商品L</th>\n      <th>商品M</th>\n      <th>商品N</th>\n      <th>商品O</th>\n      <th>商品P</th>\n      <th>商品Q</th>\n      <th>商品R</th>\n      <th>商品S</th>\n      <th>商品T</th>\n      <th>商品U</th>\n      <th>商品V</th>\n      <th>商品W</th>\n      <th>商品X</th>\n      <th>商品Y</th>\n      <th>商品Z</th>\n    </tr>\n    <tr>\n      <th>purchase_month</th>\n      <th></th>\n      <th></th>\n      <th></th>\n      <th></th>\n      <th></th>\n      <th></th>\n      <th></th>\n      <th></th>\n      <th></th>\n      <th></th>\n      <th></th>\n      <th></th>\n      <th></th>\n      <th></th>\n      <th></th>\n      <th></th>\n      <th></th>\n      <th></th>\n      <th></th>\n      <th></th>\n      <th></th>\n      <th></th>\n      <th></th>\n      <th></th>\n      <th></th>\n      <th></th>\n    </tr>\n  </thead>\n  <tbody>\n    <tr>\n      <th>201901</th>\n      <td>1800</td>\n      <td>2600</td>\n      <td>5700</td>\n      <td>6800</td>\n      <td>9000</td>\n      <td>9000</td>\n      <td>7700</td>\n      <td>12800</td>\n      <td>16200</td>\n      <td>17000</td>\n      <td>22000</td>\n      <td>22800</td>\n      <td>24700</td>\n      <td>22400</td>\n      <td>36000</td>\n      <td>25600</td>\n      <td>28900</td>\n      <td>37800</td>\n      <td>38000</td>\n      <td>34000</td>\n      <td>14700</td>\n      <td>48400</td>\n      <td>29900</td>\n      <td>33600</td>\n      <td>25000</td>\n      <td>0</td>\n    </tr>\n    <tr>\n      <th>201902</th>\n      <td>1900</td>\n      <td>2800</td>\n      <td>7800</td>\n      <td>8400</td>\n      <td>8000</td>\n      <td>8400</td>\n      <td>9800</td>\n      <td>13600</td>\n      <td>10800</td>\n      <td>14000</td>\n      <td>17600</td>\n      <td>13200</td>\n      <td>19500</td>\n      <td>28000</td>\n      <td>28500</td>\n      <td>30400</td>\n      <td>37400</td>\n      <td>39600</td>\n      <td>41800</td>\n      <td>46000</td>\n      <td>39900</td>\n      <td>48400</td>\n      <td>55200</td>\n      <td>38400</td>\n      <td>27500</td>\n      <td>2600</td>\n    </tr>\n    <tr>\n      <th>201903</th>\n      <td>1700</td>\n      <td>4200</td>\n      <td>6000</td>\n      <td>6800</td>\n      <td>4500</td>\n      <td>16200</td>\n      <td>9800</td>\n      <td>14400</td>\n      <td>10800</td>\n      <td>16000</td>\n      <td>15400</td>\n      <td>24000</td>\n      <td>28600</td>\n      <td>18200</td>\n      <td>16500</td>\n      <td>33600</td>\n      <td>39100</td>\n      <td>28800</td>\n      <td>38000</td>\n      <td>24000</td>\n      <td>48300</td>\n      <td>39600</td>\n      <td>36800</td>\n      <td>50400</td>\n      <td>40000</td>\n      <td>0</td>\n    </tr>\n    <tr>\n      <th>201904</th>\n      <td>1700</td>\n      <td>3800</td>\n      <td>7200</td>\n      <td>8000</td>\n      <td>9000</td>\n      <td>10200</td>\n      <td>9800</td>\n      <td>8800</td>\n      <td>16200</td>\n      <td>13000</td>\n      <td>15400</td>\n      <td>18000</td>\n      <td>14300</td>\n      <td>28000</td>\n      <td>22500</td>\n      <td>24000</td>\n      <td>34000</td>\n      <td>36000</td>\n      <td>30400</td>\n      <td>32000</td>\n      <td>23100</td>\n      <td>33000</td>\n      <td>32200</td>\n      <td>38400</td>\n      <td>50000</td>\n      <td>0</td>\n    </tr>\n    <tr>\n      <th>201905</th>\n      <td>2400</td>\n      <td>2800</td>\n      <td>4800</td>\n      <td>5600</td>\n      <td>9500</td>\n      <td>10800</td>\n      <td>16100</td>\n      <td>12000</td>\n      <td>14400</td>\n      <td>11000</td>\n      <td>19800</td>\n      <td>15600</td>\n      <td>23400</td>\n      <td>26600</td>\n      <td>27000</td>\n      <td>32000</td>\n      <td>22100</td>\n      <td>39600</td>\n      <td>34200</td>\n      <td>32000</td>\n      <td>33600</td>\n      <td>19800</td>\n      <td>48300</td>\n      <td>38400</td>\n      <td>50000</td>\n      <td>0</td>\n    </tr>\n    <tr>\n      <th>201906</th>\n      <td>2400</td>\n      <td>2400</td>\n      <td>3300</td>\n      <td>7600</td>\n      <td>6500</td>\n      <td>10800</td>\n      <td>10500</td>\n      <td>10400</td>\n      <td>17100</td>\n      <td>22000</td>\n      <td>16500</td>\n      <td>18000</td>\n      <td>22100</td>\n      <td>22400</td>\n      <td>22500</td>\n      <td>28800</td>\n      <td>25500</td>\n      <td>28800</td>\n      <td>39900</td>\n      <td>24000</td>\n      <td>37800</td>\n      <td>44000</td>\n      <td>39100</td>\n      <td>36000</td>\n      <td>32500</td>\n      <td>0</td>\n    </tr>\n    <tr>\n      <th>201907</th>\n      <td>2000</td>\n      <td>4000</td>\n      <td>5100</td>\n      <td>6800</td>\n      <td>6000</td>\n      <td>10200</td>\n      <td>13300</td>\n      <td>15200</td>\n      <td>17100</td>\n      <td>23000</td>\n      <td>13200</td>\n      <td>20400</td>\n      <td>14300</td>\n      <td>21000</td>\n      <td>33000</td>\n      <td>41600</td>\n      <td>25500</td>\n      <td>34200</td>\n      <td>43700</td>\n      <td>42000</td>\n      <td>27300</td>\n      <td>61600</td>\n      <td>36800</td>\n      <td>43200</td>\n      <td>30000</td>\n      <td>0</td>\n    </tr>\n  </tbody>\n</table>\n</div>"
     },
     "metadata": {},
     "execution_count": 37
    }
   ],
   "source": [
    "byPrice = import_data.pivot_table(index=\"purchase_month\", columns=\"item_name\", values=\"item_price\", aggfunc=\"sum\", fill_value=0)\n",
    "byPrice"
   ]
  },
  {
   "cell_type": "code",
   "execution_count": 41,
   "metadata": {
    "scrolled": false
   },
   "outputs": [
    {
     "output_type": "execute_result",
     "data": {
      "text/plain": "顧客名             さだ千佳子  中仁晶  中田美智子  丸山光臣  久保田倫子  ...  鳥居広司  鶴岡薫  麻生莉緒  黄川田博之  黒谷長利\npurchase_month                                  ...                              \n201901              3    1      4     2      2  ...     2    0     2      2     5\n201902              9    1      2     2      1  ...     1    2     4      0     1\n201903              1    2      1     6      1  ...     2    4     2      2     1\n201904              0    3      1     2      0  ...     3    2     1      2     0\n201905              3    2      5     2      4  ...     2    3     4      4     1\n201906              1    3      0     4      1  ...     0    2     1      2     4\n201907              3    0      3     2      5  ...     2    4     3      4     1\n\n[7 rows x 199 columns]",
      "text/html": "<div>\n<style scoped>\n    .dataframe tbody tr th:only-of-type {\n        vertical-align: middle;\n    }\n\n    .dataframe tbody tr th {\n        vertical-align: top;\n    }\n\n    .dataframe thead th {\n        text-align: right;\n    }\n</style>\n<table border=\"1\" class=\"dataframe\">\n  <thead>\n    <tr style=\"text-align: right;\">\n      <th>顧客名</th>\n      <th>さだ千佳子</th>\n      <th>中仁晶</th>\n      <th>中田美智子</th>\n      <th>丸山光臣</th>\n      <th>久保田倫子</th>\n      <th>亀井一徳</th>\n      <th>五十嵐春樹</th>\n      <th>井上桃子</th>\n      <th>井口寛治</th>\n      <th>井川真悠子</th>\n      <th>井川里穂</th>\n      <th>井本マサカズ</th>\n      <th>井村俊二</th>\n      <th>今茜</th>\n      <th>佐藤慶二</th>\n      <th>八木雅彦</th>\n      <th>内村まさみ</th>\n      <th>内田聡</th>\n      <th>南部慶二</th>\n      <th>原口俊二</th>\n      <th>古川信吾</th>\n      <th>合田光</th>\n      <th>吉岡サダヲ</th>\n      <th>吉村愛梨</th>\n      <th>和泉直人</th>\n      <th>唐沢景子</th>\n      <th>唐沢涼</th>\n      <th>土屋朝陽</th>\n      <th>城戸芳正</th>\n      <th>堀サンタマリア</th>\n      <th>堀内聡</th>\n      <th>堀北雅彦</th>\n      <th>堀江佑</th>\n      <th>外山広司</th>\n      <th>大倉晃司</th>\n      <th>大地礼子</th>\n      <th>大城ケンイチ</th>\n      <th>大山咲</th>\n      <th>大崎ヒカル</th>\n      <th>大滝麗奈</th>\n      <th>...</th>\n      <th>福本美幸</th>\n      <th>秋葉あき</th>\n      <th>稲田将也</th>\n      <th>立石茜</th>\n      <th>笹原しぼり</th>\n      <th>笹川照生</th>\n      <th>篠山雅功</th>\n      <th>米沢仁晶</th>\n      <th>綾瀬俊介</th>\n      <th>芦田博之</th>\n      <th>芳賀希</th>\n      <th>若杉徹</th>\n      <th>荻野愛</th>\n      <th>荻野愛菜</th>\n      <th>菅原誠治</th>\n      <th>藤広之</th>\n      <th>藤木一恵</th>\n      <th>西原未華子</th>\n      <th>西島知世</th>\n      <th>西脇礼子</th>\n      <th>谷本愛梨</th>\n      <th>赤木だん吉</th>\n      <th>赤木愛梨</th>\n      <th>進藤瞬</th>\n      <th>那須蒼甫</th>\n      <th>野本仁晶</th>\n      <th>金森なつみ</th>\n      <th>鈴木一哉</th>\n      <th>青山鉄洋</th>\n      <th>須賀ひとみ</th>\n      <th>香椎優一</th>\n      <th>高原充則</th>\n      <th>高梨結衣</th>\n      <th>高沢美咲</th>\n      <th>高田さんま</th>\n      <th>鳥居広司</th>\n      <th>鶴岡薫</th>\n      <th>麻生莉緒</th>\n      <th>黄川田博之</th>\n      <th>黒谷長利</th>\n    </tr>\n    <tr>\n      <th>purchase_month</th>\n      <th></th>\n      <th></th>\n      <th></th>\n      <th></th>\n      <th></th>\n      <th></th>\n      <th></th>\n      <th></th>\n      <th></th>\n      <th></th>\n      <th></th>\n      <th></th>\n      <th></th>\n      <th></th>\n      <th></th>\n      <th></th>\n      <th></th>\n      <th></th>\n      <th></th>\n      <th></th>\n      <th></th>\n      <th></th>\n      <th></th>\n      <th></th>\n      <th></th>\n      <th></th>\n      <th></th>\n      <th></th>\n      <th></th>\n      <th></th>\n      <th></th>\n      <th></th>\n      <th></th>\n      <th></th>\n      <th></th>\n      <th></th>\n      <th></th>\n      <th></th>\n      <th></th>\n      <th></th>\n      <th></th>\n      <th></th>\n      <th></th>\n      <th></th>\n      <th></th>\n      <th></th>\n      <th></th>\n      <th></th>\n      <th></th>\n      <th></th>\n      <th></th>\n      <th></th>\n      <th></th>\n      <th></th>\n      <th></th>\n      <th></th>\n      <th></th>\n      <th></th>\n      <th></th>\n      <th></th>\n      <th></th>\n      <th></th>\n      <th></th>\n      <th></th>\n      <th></th>\n      <th></th>\n      <th></th>\n      <th></th>\n      <th></th>\n      <th></th>\n      <th></th>\n      <th></th>\n      <th></th>\n      <th></th>\n      <th></th>\n      <th></th>\n      <th></th>\n      <th></th>\n      <th></th>\n      <th></th>\n      <th></th>\n    </tr>\n  </thead>\n  <tbody>\n    <tr>\n      <th>201901</th>\n      <td>3</td>\n      <td>1</td>\n      <td>4</td>\n      <td>2</td>\n      <td>2</td>\n      <td>0</td>\n      <td>5</td>\n      <td>3</td>\n      <td>3</td>\n      <td>1</td>\n      <td>4</td>\n      <td>1</td>\n      <td>4</td>\n      <td>3</td>\n      <td>4</td>\n      <td>4</td>\n      <td>2</td>\n      <td>1</td>\n      <td>0</td>\n      <td>4</td>\n      <td>2</td>\n      <td>1</td>\n      <td>1</td>\n      <td>2</td>\n      <td>3</td>\n      <td>1</td>\n      <td>0</td>\n      <td>1</td>\n      <td>2</td>\n      <td>2</td>\n      <td>3</td>\n      <td>1</td>\n      <td>4</td>\n      <td>6</td>\n      <td>0</td>\n      <td>4</td>\n      <td>1</td>\n      <td>3</td>\n      <td>2</td>\n      <td>3</td>\n      <td>...</td>\n      <td>1</td>\n      <td>1</td>\n      <td>2</td>\n      <td>4</td>\n      <td>0</td>\n      <td>1</td>\n      <td>1</td>\n      <td>4</td>\n      <td>4</td>\n      <td>2</td>\n      <td>1</td>\n      <td>2</td>\n      <td>3</td>\n      <td>2</td>\n      <td>4</td>\n      <td>4</td>\n      <td>0</td>\n      <td>7</td>\n      <td>1</td>\n      <td>0</td>\n      <td>2</td>\n      <td>5</td>\n      <td>3</td>\n      <td>2</td>\n      <td>2</td>\n      <td>2</td>\n      <td>2</td>\n      <td>4</td>\n      <td>2</td>\n      <td>2</td>\n      <td>0</td>\n      <td>1</td>\n      <td>1</td>\n      <td>1</td>\n      <td>5</td>\n      <td>2</td>\n      <td>0</td>\n      <td>2</td>\n      <td>2</td>\n      <td>5</td>\n    </tr>\n    <tr>\n      <th>201902</th>\n      <td>9</td>\n      <td>1</td>\n      <td>2</td>\n      <td>2</td>\n      <td>1</td>\n      <td>4</td>\n      <td>2</td>\n      <td>1</td>\n      <td>0</td>\n      <td>4</td>\n      <td>2</td>\n      <td>3</td>\n      <td>1</td>\n      <td>1</td>\n      <td>3</td>\n      <td>2</td>\n      <td>3</td>\n      <td>2</td>\n      <td>4</td>\n      <td>2</td>\n      <td>1</td>\n      <td>2</td>\n      <td>0</td>\n      <td>1</td>\n      <td>5</td>\n      <td>1</td>\n      <td>1</td>\n      <td>3</td>\n      <td>1</td>\n      <td>3</td>\n      <td>3</td>\n      <td>1</td>\n      <td>3</td>\n      <td>1</td>\n      <td>2</td>\n      <td>2</td>\n      <td>1</td>\n      <td>1</td>\n      <td>1</td>\n      <td>1</td>\n      <td>...</td>\n      <td>2</td>\n      <td>5</td>\n      <td>2</td>\n      <td>1</td>\n      <td>0</td>\n      <td>1</td>\n      <td>2</td>\n      <td>2</td>\n      <td>3</td>\n      <td>2</td>\n      <td>1</td>\n      <td>1</td>\n      <td>2</td>\n      <td>2</td>\n      <td>7</td>\n      <td>1</td>\n      <td>1</td>\n      <td>2</td>\n      <td>1</td>\n      <td>1</td>\n      <td>1</td>\n      <td>3</td>\n      <td>3</td>\n      <td>2</td>\n      <td>1</td>\n      <td>2</td>\n      <td>4</td>\n      <td>1</td>\n      <td>4</td>\n      <td>3</td>\n      <td>4</td>\n      <td>0</td>\n      <td>3</td>\n      <td>2</td>\n      <td>0</td>\n      <td>1</td>\n      <td>2</td>\n      <td>4</td>\n      <td>0</td>\n      <td>1</td>\n    </tr>\n    <tr>\n      <th>201903</th>\n      <td>1</td>\n      <td>2</td>\n      <td>1</td>\n      <td>6</td>\n      <td>1</td>\n      <td>4</td>\n      <td>3</td>\n      <td>3</td>\n      <td>2</td>\n      <td>2</td>\n      <td>1</td>\n      <td>2</td>\n      <td>0</td>\n      <td>3</td>\n      <td>2</td>\n      <td>2</td>\n      <td>3</td>\n      <td>2</td>\n      <td>1</td>\n      <td>5</td>\n      <td>1</td>\n      <td>4</td>\n      <td>2</td>\n      <td>2</td>\n      <td>0</td>\n      <td>3</td>\n      <td>4</td>\n      <td>1</td>\n      <td>0</td>\n      <td>1</td>\n      <td>5</td>\n      <td>2</td>\n      <td>5</td>\n      <td>0</td>\n      <td>1</td>\n      <td>2</td>\n      <td>1</td>\n      <td>3</td>\n      <td>2</td>\n      <td>3</td>\n      <td>...</td>\n      <td>2</td>\n      <td>2</td>\n      <td>1</td>\n      <td>1</td>\n      <td>2</td>\n      <td>5</td>\n      <td>5</td>\n      <td>1</td>\n      <td>2</td>\n      <td>1</td>\n      <td>1</td>\n      <td>0</td>\n      <td>1</td>\n      <td>2</td>\n      <td>1</td>\n      <td>5</td>\n      <td>3</td>\n      <td>1</td>\n      <td>3</td>\n      <td>2</td>\n      <td>1</td>\n      <td>3</td>\n      <td>1</td>\n      <td>1</td>\n      <td>5</td>\n      <td>2</td>\n      <td>0</td>\n      <td>1</td>\n      <td>0</td>\n      <td>2</td>\n      <td>3</td>\n      <td>1</td>\n      <td>6</td>\n      <td>2</td>\n      <td>4</td>\n      <td>2</td>\n      <td>4</td>\n      <td>2</td>\n      <td>2</td>\n      <td>1</td>\n    </tr>\n    <tr>\n      <th>201904</th>\n      <td>0</td>\n      <td>3</td>\n      <td>1</td>\n      <td>2</td>\n      <td>0</td>\n      <td>2</td>\n      <td>2</td>\n      <td>0</td>\n      <td>3</td>\n      <td>2</td>\n      <td>2</td>\n      <td>1</td>\n      <td>4</td>\n      <td>1</td>\n      <td>3</td>\n      <td>1</td>\n      <td>1</td>\n      <td>4</td>\n      <td>5</td>\n      <td>3</td>\n      <td>1</td>\n      <td>2</td>\n      <td>1</td>\n      <td>3</td>\n      <td>4</td>\n      <td>4</td>\n      <td>4</td>\n      <td>6</td>\n      <td>0</td>\n      <td>0</td>\n      <td>1</td>\n      <td>4</td>\n      <td>3</td>\n      <td>1</td>\n      <td>2</td>\n      <td>0</td>\n      <td>2</td>\n      <td>2</td>\n      <td>2</td>\n      <td>1</td>\n      <td>...</td>\n      <td>2</td>\n      <td>2</td>\n      <td>0</td>\n      <td>2</td>\n      <td>1</td>\n      <td>5</td>\n      <td>2</td>\n      <td>4</td>\n      <td>2</td>\n      <td>1</td>\n      <td>2</td>\n      <td>2</td>\n      <td>4</td>\n      <td>2</td>\n      <td>3</td>\n      <td>1</td>\n      <td>1</td>\n      <td>1</td>\n      <td>4</td>\n      <td>0</td>\n      <td>1</td>\n      <td>1</td>\n      <td>3</td>\n      <td>4</td>\n      <td>3</td>\n      <td>0</td>\n      <td>1</td>\n      <td>3</td>\n      <td>2</td>\n      <td>3</td>\n      <td>2</td>\n      <td>4</td>\n      <td>2</td>\n      <td>3</td>\n      <td>4</td>\n      <td>3</td>\n      <td>2</td>\n      <td>1</td>\n      <td>2</td>\n      <td>0</td>\n    </tr>\n    <tr>\n      <th>201905</th>\n      <td>3</td>\n      <td>2</td>\n      <td>5</td>\n      <td>2</td>\n      <td>4</td>\n      <td>1</td>\n      <td>2</td>\n      <td>1</td>\n      <td>3</td>\n      <td>3</td>\n      <td>0</td>\n      <td>3</td>\n      <td>1</td>\n      <td>1</td>\n      <td>1</td>\n      <td>3</td>\n      <td>2</td>\n      <td>1</td>\n      <td>2</td>\n      <td>1</td>\n      <td>3</td>\n      <td>1</td>\n      <td>0</td>\n      <td>6</td>\n      <td>0</td>\n      <td>0</td>\n      <td>4</td>\n      <td>3</td>\n      <td>0</td>\n      <td>2</td>\n      <td>1</td>\n      <td>1</td>\n      <td>3</td>\n      <td>0</td>\n      <td>1</td>\n      <td>0</td>\n      <td>1</td>\n      <td>2</td>\n      <td>4</td>\n      <td>4</td>\n      <td>...</td>\n      <td>6</td>\n      <td>4</td>\n      <td>0</td>\n      <td>2</td>\n      <td>1</td>\n      <td>1</td>\n      <td>2</td>\n      <td>1</td>\n      <td>4</td>\n      <td>2</td>\n      <td>1</td>\n      <td>2</td>\n      <td>4</td>\n      <td>1</td>\n      <td>1</td>\n      <td>0</td>\n      <td>5</td>\n      <td>1</td>\n      <td>2</td>\n      <td>1</td>\n      <td>4</td>\n      <td>2</td>\n      <td>4</td>\n      <td>2</td>\n      <td>0</td>\n      <td>1</td>\n      <td>1</td>\n      <td>6</td>\n      <td>2</td>\n      <td>2</td>\n      <td>1</td>\n      <td>1</td>\n      <td>1</td>\n      <td>0</td>\n      <td>2</td>\n      <td>2</td>\n      <td>3</td>\n      <td>4</td>\n      <td>4</td>\n      <td>1</td>\n    </tr>\n    <tr>\n      <th>201906</th>\n      <td>1</td>\n      <td>3</td>\n      <td>0</td>\n      <td>4</td>\n      <td>1</td>\n      <td>1</td>\n      <td>1</td>\n      <td>2</td>\n      <td>2</td>\n      <td>3</td>\n      <td>2</td>\n      <td>1</td>\n      <td>1</td>\n      <td>1</td>\n      <td>2</td>\n      <td>4</td>\n      <td>0</td>\n      <td>5</td>\n      <td>2</td>\n      <td>0</td>\n      <td>1</td>\n      <td>0</td>\n      <td>2</td>\n      <td>3</td>\n      <td>1</td>\n      <td>2</td>\n      <td>3</td>\n      <td>1</td>\n      <td>0</td>\n      <td>0</td>\n      <td>2</td>\n      <td>4</td>\n      <td>4</td>\n      <td>2</td>\n      <td>3</td>\n      <td>3</td>\n      <td>4</td>\n      <td>4</td>\n      <td>1</td>\n      <td>2</td>\n      <td>...</td>\n      <td>6</td>\n      <td>0</td>\n      <td>2</td>\n      <td>1</td>\n      <td>3</td>\n      <td>1</td>\n      <td>3</td>\n      <td>2</td>\n      <td>4</td>\n      <td>1</td>\n      <td>1</td>\n      <td>4</td>\n      <td>3</td>\n      <td>2</td>\n      <td>1</td>\n      <td>5</td>\n      <td>2</td>\n      <td>0</td>\n      <td>1</td>\n      <td>2</td>\n      <td>5</td>\n      <td>1</td>\n      <td>3</td>\n      <td>3</td>\n      <td>1</td>\n      <td>2</td>\n      <td>0</td>\n      <td>3</td>\n      <td>3</td>\n      <td>4</td>\n      <td>7</td>\n      <td>3</td>\n      <td>0</td>\n      <td>2</td>\n      <td>1</td>\n      <td>0</td>\n      <td>2</td>\n      <td>1</td>\n      <td>2</td>\n      <td>4</td>\n    </tr>\n    <tr>\n      <th>201907</th>\n      <td>3</td>\n      <td>0</td>\n      <td>3</td>\n      <td>2</td>\n      <td>5</td>\n      <td>3</td>\n      <td>5</td>\n      <td>2</td>\n      <td>5</td>\n      <td>5</td>\n      <td>6</td>\n      <td>2</td>\n      <td>0</td>\n      <td>2</td>\n      <td>1</td>\n      <td>1</td>\n      <td>3</td>\n      <td>3</td>\n      <td>0</td>\n      <td>1</td>\n      <td>2</td>\n      <td>2</td>\n      <td>2</td>\n      <td>1</td>\n      <td>2</td>\n      <td>2</td>\n      <td>2</td>\n      <td>1</td>\n      <td>1</td>\n      <td>2</td>\n      <td>0</td>\n      <td>1</td>\n      <td>1</td>\n      <td>2</td>\n      <td>1</td>\n      <td>2</td>\n      <td>1</td>\n      <td>1</td>\n      <td>1</td>\n      <td>1</td>\n      <td>...</td>\n      <td>4</td>\n      <td>3</td>\n      <td>3</td>\n      <td>1</td>\n      <td>1</td>\n      <td>1</td>\n      <td>2</td>\n      <td>2</td>\n      <td>0</td>\n      <td>2</td>\n      <td>3</td>\n      <td>4</td>\n      <td>2</td>\n      <td>1</td>\n      <td>0</td>\n      <td>1</td>\n      <td>2</td>\n      <td>1</td>\n      <td>1</td>\n      <td>4</td>\n      <td>3</td>\n      <td>4</td>\n      <td>2</td>\n      <td>3</td>\n      <td>4</td>\n      <td>3</td>\n      <td>2</td>\n      <td>0</td>\n      <td>0</td>\n      <td>4</td>\n      <td>2</td>\n      <td>4</td>\n      <td>4</td>\n      <td>2</td>\n      <td>0</td>\n      <td>2</td>\n      <td>4</td>\n      <td>3</td>\n      <td>4</td>\n      <td>1</td>\n    </tr>\n  </tbody>\n</table>\n<p>7 rows × 199 columns</p>\n</div>"
     },
     "metadata": {},
     "execution_count": 41
    }
   ],
   "source": [
    "byCustomer = import_data.pivot_table(index=\"purchase_month\", columns=\"顧客名\", aggfunc=\"size\", fill_value=0)\n",
    "byCustomer"
   ]
  },
  {
   "cell_type": "code",
   "execution_count": 43,
   "metadata": {
    "scrolled": false
   },
   "outputs": [
    {
     "output_type": "execute_result",
     "data": {
      "text/plain": "地域              A市  B市  C市  D市  E市  F市  G市  H市\npurchase_month                                \n201901          59  55  72  34  49  57  49  42\n201902          71  46  65  48  61  52  43  63\n201903          64  52  57  43  52  59  51  59\n201904          64  48  54  45  48  58  40  52\n201905          57  52  68  48  59  65  35  43\n201906          53  47  61  30  51  51  58  58\n201907          76  53  61  42  54  64  47  54",
      "text/html": "<div>\n<style scoped>\n    .dataframe tbody tr th:only-of-type {\n        vertical-align: middle;\n    }\n\n    .dataframe tbody tr th {\n        vertical-align: top;\n    }\n\n    .dataframe thead th {\n        text-align: right;\n    }\n</style>\n<table border=\"1\" class=\"dataframe\">\n  <thead>\n    <tr style=\"text-align: right;\">\n      <th>地域</th>\n      <th>A市</th>\n      <th>B市</th>\n      <th>C市</th>\n      <th>D市</th>\n      <th>E市</th>\n      <th>F市</th>\n      <th>G市</th>\n      <th>H市</th>\n    </tr>\n    <tr>\n      <th>purchase_month</th>\n      <th></th>\n      <th></th>\n      <th></th>\n      <th></th>\n      <th></th>\n      <th></th>\n      <th></th>\n      <th></th>\n    </tr>\n  </thead>\n  <tbody>\n    <tr>\n      <th>201901</th>\n      <td>59</td>\n      <td>55</td>\n      <td>72</td>\n      <td>34</td>\n      <td>49</td>\n      <td>57</td>\n      <td>49</td>\n      <td>42</td>\n    </tr>\n    <tr>\n      <th>201902</th>\n      <td>71</td>\n      <td>46</td>\n      <td>65</td>\n      <td>48</td>\n      <td>61</td>\n      <td>52</td>\n      <td>43</td>\n      <td>63</td>\n    </tr>\n    <tr>\n      <th>201903</th>\n      <td>64</td>\n      <td>52</td>\n      <td>57</td>\n      <td>43</td>\n      <td>52</td>\n      <td>59</td>\n      <td>51</td>\n      <td>59</td>\n    </tr>\n    <tr>\n      <th>201904</th>\n      <td>64</td>\n      <td>48</td>\n      <td>54</td>\n      <td>45</td>\n      <td>48</td>\n      <td>58</td>\n      <td>40</td>\n      <td>52</td>\n    </tr>\n    <tr>\n      <th>201905</th>\n      <td>57</td>\n      <td>52</td>\n      <td>68</td>\n      <td>48</td>\n      <td>59</td>\n      <td>65</td>\n      <td>35</td>\n      <td>43</td>\n    </tr>\n    <tr>\n      <th>201906</th>\n      <td>53</td>\n      <td>47</td>\n      <td>61</td>\n      <td>30</td>\n      <td>51</td>\n      <td>51</td>\n      <td>58</td>\n      <td>58</td>\n    </tr>\n    <tr>\n      <th>201907</th>\n      <td>76</td>\n      <td>53</td>\n      <td>61</td>\n      <td>42</td>\n      <td>54</td>\n      <td>64</td>\n      <td>47</td>\n      <td>54</td>\n    </tr>\n  </tbody>\n</table>\n</div>"
     },
     "metadata": {},
     "execution_count": 43
    }
   ],
   "source": [
    "byRegion = import_data.pivot_table(index=\"purchase_month\", columns=\"地域\", values=\"item_price\", aggfunc=\"size\", fill_value=0)\n",
    "byRegion"
   ]
  },
  {
   "cell_type": "code",
   "execution_count": 44,
   "metadata": {},
   "outputs": [
    {
     "output_type": "execute_result",
     "data": {
      "text/plain": "       顧客名                  メールアドレス        登録日\n2999  福井美希  fukui_miki1@example.com 2019-04-23",
      "text/html": "<div>\n<style scoped>\n    .dataframe tbody tr th:only-of-type {\n        vertical-align: middle;\n    }\n\n    .dataframe tbody tr th {\n        vertical-align: top;\n    }\n\n    .dataframe thead th {\n        text-align: right;\n    }\n</style>\n<table border=\"1\" class=\"dataframe\">\n  <thead>\n    <tr style=\"text-align: right;\">\n      <th></th>\n      <th>顧客名</th>\n      <th>メールアドレス</th>\n      <th>登録日</th>\n    </tr>\n  </thead>\n  <tbody>\n    <tr>\n      <th>2999</th>\n      <td>福井美希</td>\n      <td>fukui_miki1@example.com</td>\n      <td>2019-04-23</td>\n    </tr>\n  </tbody>\n</table>\n</div>"
     },
     "metadata": {},
     "execution_count": 44
    }
   ],
   "source": [
    "away_data = pd.merge(uriage_data, kokyaku_data, left_on=\"customer_name\", right_on=\"顧客名\", how=\"right\")\n",
    "away_data[away_data[\"purchase_date\"].isnull()][[\"顧客名\", \"メールアドレス\", \"登録日\"]]"
   ]
  }
 ],
 "metadata": {
  "kernelspec": {
   "display_name": "Python 3",
   "language": "python",
   "name": "python3"
  },
  "language_info": {
   "codemirror_mode": {
    "name": "ipython",
    "version": 3
   },
   "file_extension": ".py",
   "mimetype": "text/x-python",
   "name": "python",
   "nbconvert_exporter": "python",
   "pygments_lexer": "ipython3",
   "version": "3.7.6-final"
  }
 },
 "nbformat": 4,
 "nbformat_minor": 2
}